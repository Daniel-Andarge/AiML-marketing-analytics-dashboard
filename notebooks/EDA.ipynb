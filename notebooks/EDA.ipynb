{
 "cells": [
  {
   "cell_type": "markdown",
   "id": "2eaf6d95-1126-479b-b6b7-2e4f7234a00e",
   "metadata": {},
   "source": [
    "# Exploratory Data Analysis (EDA)"
   ]
  },
  {
   "cell_type": "code",
   "execution_count": null,
   "id": "e8f29498-9f96-4183-987a-e8d1d8c071c1",
   "metadata": {},
   "outputs": [],
   "source": [
    "import sys\n",
    "sys.path.append('../scripts')\n",
    "\n",
    "from data_pipeline import *"
   ]
  },
  {
   "cell_type": "markdown",
   "id": "b20c9a66-a444-4cb8-872a-5d89ad646789",
   "metadata": {},
   "source": [
    "## Fetch app reviews from  Google Play store."
   ]
  },
  {
   "cell_type": "code",
   "execution_count": null,
   "id": "897bc5ce-5315-4d83-a676-f905f8df3e7c",
   "metadata": {},
   "outputs": [],
   "source": [
    "raw_app_reviews = fetch_app_reviews('com.boa.apollo')"
   ]
  },
  {
   "cell_type": "code",
   "execution_count": null,
   "id": "8f88557d-977e-4372-a559-dda9431e112b",
   "metadata": {},
   "outputs": [],
   "source": [
    "display(raw_app_reviews)"
   ]
  },
  {
   "cell_type": "markdown",
   "id": "81b85cdb-6b98-4c45-992b-c1d93122d6f8",
   "metadata": {},
   "source": [
    "## Save raw data to kedro raw folder"
   ]
  },
  {
   "cell_type": "code",
   "execution_count": null,
   "id": "2bef0f00-4115-4416-9a25-fb6474f9c7e3",
   "metadata": {},
   "outputs": [],
   "source": [
    "# Define output folder and file name\n",
    "output_folder = os.path.join('..', 'kedro-data/data/01_raw')\n",
    "filename = 'raw_app_reviews.csv'\n",
    "\n",
    "output_path = save_dataset(raw_app_reviews, output_folder, filename)"
   ]
  },
  {
   "cell_type": "markdown",
   "id": "1efff4ef-55f2-4ba5-9349-a80537c84796",
   "metadata": {},
   "source": [
    "## Data Understanding"
   ]
  },
  {
   "cell_type": "markdown",
   "id": "329f70d1-9339-42fd-ae04-aa88d674b1a4",
   "metadata": {},
   "source": [
    "### Load Data using Kedro"
   ]
  },
  {
   "cell_type": "code",
   "execution_count": 1,
   "id": "c94b9594-6bdc-40d4-9d7e-fd7bca6f605b",
   "metadata": {},
   "outputs": [
    {
     "name": "stderr",
     "output_type": "stream",
     "text": [
      "UsageError: Line magic function `%reload_kedro` not found.\n"
     ]
    }
   ],
   "source": [
    "%reload_kedro kedro-pipeline"
   ]
  },
  {
   "cell_type": "code",
   "execution_count": null,
   "id": "4de94c48-4799-487d-9f8b-7421930396b4",
   "metadata": {},
   "outputs": [],
   "source": [
    "%load_ext kedro.ipython"
   ]
  },
  {
   "cell_type": "code",
   "execution_count": null,
   "id": "01849768-aa3c-49ab-9ce7-f79ee973b6f2",
   "metadata": {},
   "outputs": [],
   "source": []
  },
  {
   "cell_type": "code",
   "execution_count": null,
   "id": "ac9f806e-1232-4f85-81d9-0f3e7060d10e",
   "metadata": {},
   "outputs": [],
   "source": [
    "raw_app_reviews.info()"
   ]
  },
  {
   "cell_type": "markdown",
   "id": "d9bdbe5a",
   "metadata": {},
   "source": [
    "## Data Cleaning"
   ]
  },
  {
   "cell_type": "code",
   "execution_count": null,
   "id": "ae78c869-a83a-4d57-a20c-4c33dfa385c8",
   "metadata": {},
   "outputs": [],
   "source": [
    "cleaned_df = perform_data_cleaning(raw_app_reviews)"
   ]
  },
  {
   "cell_type": "code",
   "execution_count": null,
   "id": "0c68de02",
   "metadata": {},
   "outputs": [],
   "source": [
    "display(cleaned_df)"
   ]
  },
  {
   "cell_type": "markdown",
   "id": "844f864a",
   "metadata": {},
   "source": [
    "## Save Cleaned Dataset"
   ]
  },
  {
   "cell_type": "markdown",
   "id": "dec256f3",
   "metadata": {},
   "source": []
  }
 ],
 "metadata": {
  "kernelspec": {
   "display_name": "Python 3 (ipykernel)",
   "language": "python",
   "name": "python3"
  },
  "language_info": {
   "codemirror_mode": {
    "name": "ipython",
    "version": 3
   },
   "file_extension": ".py",
   "mimetype": "text/x-python",
   "name": "python",
   "nbconvert_exporter": "python",
   "pygments_lexer": "ipython3",
   "version": "3.9.13"
  }
 },
 "nbformat": 4,
 "nbformat_minor": 5
}
