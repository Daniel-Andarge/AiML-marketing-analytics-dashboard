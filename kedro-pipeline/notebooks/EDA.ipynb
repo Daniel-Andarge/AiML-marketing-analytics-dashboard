{
 "cells": [
  {
   "cell_type": "markdown",
   "id": "2eaf6d95-1126-479b-b6b7-2e4f7234a00e",
   "metadata": {},
   "source": [
    "# Exploratory Data Analysis (EDA)"
   ]
  },
  {
   "cell_type": "code",
   "execution_count": 1,
   "id": "e8f29498-9f96-4183-987a-e8d1d8c071c1",
   "metadata": {},
   "outputs": [],
   "source": [
    "import sys\n",
    "sys.path.append('../scripts')\n",
    "\n",
    "from data_pipeline import *"
   ]
  },
  {
   "cell_type": "markdown",
   "id": "b20c9a66-a444-4cb8-872a-5d89ad646789",
   "metadata": {},
   "source": [
    "## Fetch app reviews from  Google Play store."
   ]
  },
  {
   "cell_type": "code",
   "execution_count": null,
   "id": "897bc5ce-5315-4d83-a676-f905f8df3e7c",
   "metadata": {},
   "outputs": [],
   "source": [
    "app_id = \"com.boa.apollo\"\n",
    "raw_reviews_df = fetch_app_reviews(app_id)"
   ]
  },
  {
   "cell_type": "code",
   "execution_count": null,
   "id": "f40ff56d-92e6-40bf-9e39-06b44ee2e9dd",
   "metadata": {},
   "outputs": [],
   "source": [
    "display(raw_reviews_df)"
   ]
  },
  {
   "cell_type": "markdown",
   "id": "81b85cdb-6b98-4c45-992b-c1d93122d6f8",
   "metadata": {},
   "source": [
    "## Save raw data to kedro raw folder"
   ]
  },
  {
   "cell_type": "code",
   "execution_count": null,
   "id": "2bef0f00-4115-4416-9a25-fb6474f9c7e3",
   "metadata": {},
   "outputs": [],
   "source": [
    "# Define output folder and file name\n",
    "output_folder = os.path.join('..', 'data/01_raw')\n",
    "filename = 'raw_reviews_df.csv'\n",
    "output_path = save_dataset(raw_reviews_df, output_folder, filename)"
   ]
  },
  {
   "cell_type": "markdown",
   "id": "329f70d1-9339-42fd-ae04-aa88d674b1a4",
   "metadata": {},
   "source": [
    "## Load Data using Kedro"
   ]
  },
  {
   "cell_type": "code",
   "execution_count": 2,
   "id": "c94b9594-6bdc-40d4-9d7e-fd7bca6f605b",
   "metadata": {},
   "outputs": [
    {
     "data": {
      "text/html": [
       "<pre style=\"white-space:pre;overflow-x:auto;line-height:normal;font-family:Menlo,'DejaVu Sans Mono',consolas,'Courier New',monospace\"><span style=\"color: #7fbfbf; text-decoration-color: #7fbfbf\">[05/23/24 22:24:22] </span><span style=\"color: #000080; text-decoration-color: #000080\">INFO    </span> Resolved project path as: C:\\Users\\Administrator\\Desktop\\New folder    <span style=\"color: #7f7f7f; text-decoration-color: #7f7f7f\">__init__.py:139</span>\n",
       "<span style=\"color: #7fbfbf; text-decoration-color: #7fbfbf\">                    </span>         <span style=\"font-weight: bold\">(</span><span style=\"color: #008080; text-decoration-color: #008080; font-weight: bold\">3</span><span style=\"font-weight: bold\">)</span>\\AiML-marketing-analytics-dashboard\\kedro-pipeline.                 <span style=\"color: #7f7f7f; text-decoration-color: #7f7f7f\">               </span>\n",
       "<span style=\"color: #7fbfbf; text-decoration-color: #7fbfbf\">                    </span>         To set a different path, run <span style=\"color: #008000; text-decoration-color: #008000\">'%reload_kedro &lt;project_root&gt;'</span>            <span style=\"color: #7f7f7f; text-decoration-color: #7f7f7f\">               </span>\n",
       "</pre>\n"
      ],
      "text/plain": [
       "\u001b[2;36m[05/23/24 22:24:22]\u001b[0m\u001b[2;36m \u001b[0m\u001b[34mINFO    \u001b[0m Resolved project path as: C:\\Users\\Administrator\\Desktop\\New folder    \u001b[2m__init__.py\u001b[0m\u001b[2m:\u001b[0m\u001b[2m139\u001b[0m\n",
       "\u001b[2;36m                    \u001b[0m         \u001b[1m(\u001b[0m\u001b[1;36m3\u001b[0m\u001b[1m)\u001b[0m\\AiML-marketing-analytics-dashboard\\kedro-pipeline.                 \u001b[2m               \u001b[0m\n",
       "\u001b[2;36m                    \u001b[0m         To set a different path, run \u001b[32m'%reload_kedro \u001b[0m\u001b[32m<\u001b[0m\u001b[32mproject_root\u001b[0m\u001b[32m>\u001b[0m\u001b[32m'\u001b[0m            \u001b[2m               \u001b[0m\n"
      ]
     },
     "metadata": {},
     "output_type": "display_data"
    },
    {
     "data": {
      "text/html": [
       "<pre style=\"white-space:pre;overflow-x:auto;line-height:normal;font-family:Menlo,'DejaVu Sans Mono',consolas,'Courier New',monospace\"><span style=\"color: #7fbfbf; text-decoration-color: #7fbfbf\">[05/23/24 22:24:24] </span><span style=\"color: #000080; text-decoration-color: #000080\">INFO    </span> Kedro project kedro-pipeline                                           <span style=\"color: #7f7f7f; text-decoration-color: #7f7f7f\">__init__.py:108</span>\n",
       "</pre>\n"
      ],
      "text/plain": [
       "\u001b[2;36m[05/23/24 22:24:24]\u001b[0m\u001b[2;36m \u001b[0m\u001b[34mINFO    \u001b[0m Kedro project kedro-pipeline                                           \u001b[2m__init__.py\u001b[0m\u001b[2m:\u001b[0m\u001b[2m108\u001b[0m\n"
      ]
     },
     "metadata": {},
     "output_type": "display_data"
    },
    {
     "data": {
      "text/html": [
       "<pre style=\"white-space:pre;overflow-x:auto;line-height:normal;font-family:Menlo,'DejaVu Sans Mono',consolas,'Courier New',monospace\"><span style=\"color: #7fbfbf; text-decoration-color: #7fbfbf\">                    </span><span style=\"color: #000080; text-decoration-color: #000080\">INFO    </span> Defined global variable <span style=\"color: #008000; text-decoration-color: #008000\">'context'</span>, <span style=\"color: #008000; text-decoration-color: #008000\">'session'</span>, <span style=\"color: #008000; text-decoration-color: #008000\">'catalog'</span> and            <span style=\"color: #7f7f7f; text-decoration-color: #7f7f7f\">__init__.py:109</span>\n",
       "<span style=\"color: #7fbfbf; text-decoration-color: #7fbfbf\">                    </span>         <span style=\"color: #008000; text-decoration-color: #008000\">'pipelines'</span>                                                            <span style=\"color: #7f7f7f; text-decoration-color: #7f7f7f\">               </span>\n",
       "</pre>\n"
      ],
      "text/plain": [
       "\u001b[2;36m                   \u001b[0m\u001b[2;36m \u001b[0m\u001b[34mINFO    \u001b[0m Defined global variable \u001b[32m'context'\u001b[0m, \u001b[32m'session'\u001b[0m, \u001b[32m'catalog'\u001b[0m and            \u001b[2m__init__.py\u001b[0m\u001b[2m:\u001b[0m\u001b[2m109\u001b[0m\n",
       "\u001b[2;36m                    \u001b[0m         \u001b[32m'pipelines'\u001b[0m                                                            \u001b[2m               \u001b[0m\n"
      ]
     },
     "metadata": {},
     "output_type": "display_data"
    }
   ],
   "source": [
    "%load_ext kedro.ipython"
   ]
  },
  {
   "cell_type": "code",
   "execution_count": 3,
   "id": "cdf7e513-a501-4523-9564-c5103375a6be",
   "metadata": {},
   "outputs": [
    {
     "data": {
      "text/html": [
       "<pre style=\"white-space:pre;overflow-x:auto;line-height:normal;font-family:Menlo,'DejaVu Sans Mono',consolas,'Courier New',monospace\"><span style=\"color: #7fbfbf; text-decoration-color: #7fbfbf\">[05/23/24 22:24:29] </span><span style=\"color: #000080; text-decoration-color: #000080\">INFO    </span> Loading data from <span style=\"color: #008000; text-decoration-color: #008000\">'raw_data'</span> <span style=\"font-weight: bold\">(</span>CSVDataSet<span style=\"font-weight: bold\">)</span><span style=\"color: #808000; text-decoration-color: #808000\">...</span>                       <span style=\"color: #7f7f7f; text-decoration-color: #7f7f7f\">data_catalog.py:492</span>\n",
       "</pre>\n"
      ],
      "text/plain": [
       "\u001b[2;36m[05/23/24 22:24:29]\u001b[0m\u001b[2;36m \u001b[0m\u001b[34mINFO    \u001b[0m Loading data from \u001b[32m'raw_data'\u001b[0m \u001b[1m(\u001b[0mCSVDataSet\u001b[1m)\u001b[0m\u001b[33m...\u001b[0m                       \u001b[2mdata_catalog.py\u001b[0m\u001b[2m:\u001b[0m\u001b[2m492\u001b[0m\n"
      ]
     },
     "metadata": {},
     "output_type": "display_data"
    },
    {
     "data": {
      "text/html": [
       "<pre style=\"white-space:pre;overflow-x:auto;line-height:normal;font-family:Menlo,'DejaVu Sans Mono',consolas,'Courier New',monospace\"></pre>\n"
      ],
      "text/plain": []
     },
     "metadata": {},
     "output_type": "display_data"
    },
    {
     "data": {
      "text/html": [
       "<div>\n",
       "<style scoped>\n",
       "    .dataframe tbody tr th:only-of-type {\n",
       "        vertical-align: middle;\n",
       "    }\n",
       "\n",
       "    .dataframe tbody tr th {\n",
       "        vertical-align: top;\n",
       "    }\n",
       "\n",
       "    .dataframe thead th {\n",
       "        text-align: right;\n",
       "    }\n",
       "</style>\n",
       "<table border=\"1\" class=\"dataframe\">\n",
       "  <thead>\n",
       "    <tr style=\"text-align: right;\">\n",
       "      <th></th>\n",
       "      <th>reviewId</th>\n",
       "      <th>userName</th>\n",
       "      <th>userImage</th>\n",
       "      <th>content</th>\n",
       "      <th>score</th>\n",
       "      <th>thumbsUpCount</th>\n",
       "      <th>reviewCreatedVersion</th>\n",
       "      <th>at</th>\n",
       "      <th>replyContent</th>\n",
       "      <th>repliedAt</th>\n",
       "      <th>appVersion</th>\n",
       "    </tr>\n",
       "  </thead>\n",
       "  <tbody>\n",
       "    <tr>\n",
       "      <th>0</th>\n",
       "      <td>738b6d3a-2d7f-4a82-bfe2-dcf32591f944</td>\n",
       "      <td>NAHOM NIGUSSIE</td>\n",
       "      <td>https://play-lh.googleusercontent.com/a-/ALV-U...</td>\n",
       "      <td>Slow and buggy crashed all the time need a lot...</td>\n",
       "      <td>2</td>\n",
       "      <td>1</td>\n",
       "      <td>NaN</td>\n",
       "      <td>2024-05-21 18:38:28</td>\n",
       "      <td>NaN</td>\n",
       "      <td>NaN</td>\n",
       "      <td>NaN</td>\n",
       "    </tr>\n",
       "    <tr>\n",
       "      <th>1</th>\n",
       "      <td>e20abe49-8fe7-42fe-af3a-91399875b21a</td>\n",
       "      <td>Abbatu Ermias</td>\n",
       "      <td>https://play-lh.googleusercontent.com/a/ACg8oc...</td>\n",
       "      <td>Awe ሃረፍ nawe</td>\n",
       "      <td>5</td>\n",
       "      <td>0</td>\n",
       "      <td>24.04.23</td>\n",
       "      <td>2024-05-21 05:06:05</td>\n",
       "      <td>NaN</td>\n",
       "      <td>NaN</td>\n",
       "      <td>24.04.23</td>\n",
       "    </tr>\n",
       "    <tr>\n",
       "      <th>2</th>\n",
       "      <td>55c833c8-a942-47bb-aaaa-e022f39e28af</td>\n",
       "      <td>Habtsh Darge</td>\n",
       "      <td>https://play-lh.googleusercontent.com/a/ACg8oc...</td>\n",
       "      <td>በጣም ቀፋፊ አፕ ነው ። ሰርቶ አያውቅም ። በጣም ብዙ ችግር አለበት ከአ...</td>\n",
       "      <td>1</td>\n",
       "      <td>0</td>\n",
       "      <td>NaN</td>\n",
       "      <td>2024-05-20 08:07:49</td>\n",
       "      <td>NaN</td>\n",
       "      <td>NaN</td>\n",
       "      <td>NaN</td>\n",
       "    </tr>\n",
       "    <tr>\n",
       "      <th>3</th>\n",
       "      <td>d62d6d95-2900-4038-aa26-c9b42835c971</td>\n",
       "      <td>Usman</td>\n",
       "      <td>https://play-lh.googleusercontent.com/a/ACg8oc...</td>\n",
       "      <td>This application is very bad . Please modify t...</td>\n",
       "      <td>1</td>\n",
       "      <td>0</td>\n",
       "      <td>NaN</td>\n",
       "      <td>2024-05-19 16:27:13</td>\n",
       "      <td>NaN</td>\n",
       "      <td>NaN</td>\n",
       "      <td>NaN</td>\n",
       "    </tr>\n",
       "    <tr>\n",
       "      <th>4</th>\n",
       "      <td>20c4de51-f5cd-41f3-b21a-efdf8cb4463e</td>\n",
       "      <td>Eskender Million</td>\n",
       "      <td>https://play-lh.googleusercontent.com/a-/ALV-U...</td>\n",
       "      <td>It has a very complex, inconvenient to use, an...</td>\n",
       "      <td>1</td>\n",
       "      <td>1</td>\n",
       "      <td>24.04.23</td>\n",
       "      <td>2024-05-17 20:37:40</td>\n",
       "      <td>NaN</td>\n",
       "      <td>NaN</td>\n",
       "      <td>24.04.23</td>\n",
       "    </tr>\n",
       "  </tbody>\n",
       "</table>\n",
       "</div>"
      ],
      "text/plain": [
       "\n",
       "                               reviewId          userName  \\\n",
       "\u001b[1;36m0\u001b[0m  \u001b[93m738b6d3a-2d7f-4a82-bfe2-dcf32591f944\u001b[0m    NAHOM NIGUSSIE   \n",
       "\u001b[1;36m1\u001b[0m  \u001b[93me20abe49-8fe7-42fe-af3a-91399875b21a\u001b[0m     Abbatu Ermias   \n",
       "\u001b[1;36m2\u001b[0m  \u001b[93m55c833c8-a942-47bb-aaaa-e022f39e28af\u001b[0m      Habtsh Darge   \n",
       "\u001b[1;36m3\u001b[0m  \u001b[93md62d6d95-2900-4038-aa26-c9b42835c971\u001b[0m             Usman   \n",
       "\u001b[1;36m4\u001b[0m  \u001b[93m20c4de51-f5cd-41f3-b21a-efdf8cb4463e\u001b[0m  Eskender Million   \n",
       "\n",
       "                                           userImage  \\\n",
       "\u001b[1;36m0\u001b[0m  \u001b[4;94mhttps://play-lh.googleusercontent.com/a-/ALV-U...\u001b[0m   \n",
       "\u001b[1;36m1\u001b[0m  \u001b[4;94mhttps://play-lh.googleusercontent.com/a/ACg8oc...\u001b[0m   \n",
       "\u001b[1;36m2\u001b[0m  \u001b[4;94mhttps://play-lh.googleusercontent.com/a/ACg8oc...\u001b[0m   \n",
       "\u001b[1;36m3\u001b[0m  \u001b[4;94mhttps://play-lh.googleusercontent.com/a/ACg8oc...\u001b[0m   \n",
       "\u001b[1;36m4\u001b[0m  \u001b[4;94mhttps://play-lh.googleusercontent.com/a-/ALV-U...\u001b[0m   \n",
       "\n",
       "                                             content  score  thumbsUpCount  \\\n",
       "\u001b[1;36m0\u001b[0m  Slow and buggy crashed all the time need a lot\u001b[33m...\u001b[0m      \u001b[1;36m2\u001b[0m              \u001b[1;36m1\u001b[0m   \n",
       "\u001b[1;36m1\u001b[0m                                       Awe ሃረፍ nawe      \u001b[1;36m5\u001b[0m              \u001b[1;36m0\u001b[0m   \n",
       "\u001b[1;36m2\u001b[0m  በጣም ቀፋፊ አፕ ነው ። ሰርቶ አያውቅም ። በጣም ብዙ ችግር አለበት ከአ\u001b[33m...\u001b[0m      \u001b[1;36m1\u001b[0m              \u001b[1;36m0\u001b[0m   \n",
       "\u001b[1;36m3\u001b[0m  This application is very bad . Please modify t\u001b[33m...\u001b[0m      \u001b[1;36m1\u001b[0m              \u001b[1;36m0\u001b[0m   \n",
       "\u001b[1;36m4\u001b[0m  It has a very complex, inconvenient to use, an\u001b[33m...\u001b[0m      \u001b[1;36m1\u001b[0m              \u001b[1;36m1\u001b[0m   \n",
       "\n",
       "  reviewCreatedVersion                   at  replyContent  repliedAt  \\\n",
       "\u001b[1;36m0\u001b[0m                  NaN  \u001b[1;36m2024\u001b[0m-\u001b[1;36m05\u001b[0m-\u001b[1;36m21\u001b[0m \u001b[1;92m18:38:28\u001b[0m           NaN        NaN   \n",
       "\u001b[1;36m1\u001b[0m             \u001b[1;36m24.04\u001b[0m.\u001b[1;36m23\u001b[0m  \u001b[1;36m2024\u001b[0m-\u001b[1;36m05\u001b[0m-\u001b[1;36m21\u001b[0m \u001b[1;92m05:06:05\u001b[0m           NaN        NaN   \n",
       "\u001b[1;36m2\u001b[0m                  NaN  \u001b[1;36m2024\u001b[0m-\u001b[1;36m05\u001b[0m-\u001b[1;36m20\u001b[0m \u001b[1;92m08:07:49\u001b[0m           NaN        NaN   \n",
       "\u001b[1;36m3\u001b[0m                  NaN  \u001b[1;36m2024\u001b[0m-\u001b[1;36m05\u001b[0m-\u001b[1;36m19\u001b[0m \u001b[1;92m16:27:13\u001b[0m           NaN        NaN   \n",
       "\u001b[1;36m4\u001b[0m             \u001b[1;36m24.04\u001b[0m.\u001b[1;36m23\u001b[0m  \u001b[1;36m2024\u001b[0m-\u001b[1;36m05\u001b[0m-\u001b[1;36m17\u001b[0m \u001b[1;92m20:37:40\u001b[0m           NaN        NaN   \n",
       "\n",
       "  appVersion  \n",
       "\u001b[1;36m0\u001b[0m        NaN  \n",
       "\u001b[1;36m1\u001b[0m   \u001b[1;36m24.04\u001b[0m.\u001b[1;36m23\u001b[0m  \n",
       "\u001b[1;36m2\u001b[0m        NaN  \n",
       "\u001b[1;36m3\u001b[0m        NaN  \n",
       "\u001b[1;36m4\u001b[0m   \u001b[1;36m24.04\u001b[0m.\u001b[1;36m23\u001b[0m  "
      ]
     },
     "execution_count": 3,
     "metadata": {},
     "output_type": "execute_result"
    }
   ],
   "source": [
    "kedro_raw_df = catalog.load(\"raw_data\")\n",
    "kedro_raw_df.head()"
   ]
  },
  {
   "cell_type": "markdown",
   "id": "1efff4ef-55f2-4ba5-9349-a80537c84796",
   "metadata": {},
   "source": [
    "## Data Understanding"
   ]
  },
  {
   "cell_type": "code",
   "execution_count": 4,
   "id": "ac9f806e-1232-4f85-81d9-0f3e7060d10e",
   "metadata": {},
   "outputs": [
    {
     "name": "stdout",
     "output_type": "stream",
     "text": [
      "<class 'pandas.core.frame.DataFrame'>\n",
      "RangeIndex: 995 entries, 0 to 994\n",
      "Data columns (total 11 columns):\n",
      " #   Column                Non-Null Count  Dtype  \n",
      "---  ------                --------------  -----  \n",
      " 0   reviewId              995 non-null    object \n",
      " 1   userName              995 non-null    object \n",
      " 2   userImage             995 non-null    object \n",
      " 3   content               995 non-null    object \n",
      " 4   score                 995 non-null    int64  \n",
      " 5   thumbsUpCount         995 non-null    int64  \n",
      " 6   reviewCreatedVersion  649 non-null    object \n",
      " 7   at                    995 non-null    object \n",
      " 8   replyContent          0 non-null      float64\n",
      " 9   repliedAt             0 non-null      float64\n",
      " 10  appVersion            649 non-null    object \n",
      "dtypes: float64(2), int64(2), object(7)\n",
      "memory usage: 85.6+ KB\n"
     ]
    }
   ],
   "source": [
    "kedro_raw_df.info()"
   ]
  },
  {
   "cell_type": "markdown",
   "id": "d9bdbe5a",
   "metadata": {},
   "source": [
    "## Data Cleaning"
   ]
  },
  {
   "cell_type": "code",
   "execution_count": 7,
   "id": "ae78c869-a83a-4d57-a20c-4c33dfa385c8",
   "metadata": {},
   "outputs": [
    {
     "data": {
      "text/html": [
       "<pre style=\"white-space:pre;overflow-x:auto;line-height:normal;font-family:Menlo,'DejaVu Sans Mono',consolas,'Courier New',monospace\"></pre>\n"
      ],
      "text/plain": []
     },
     "metadata": {},
     "output_type": "display_data"
    },
    {
     "data": {
      "text/html": [
       "<div>\n",
       "<style scoped>\n",
       "    .dataframe tbody tr th:only-of-type {\n",
       "        vertical-align: middle;\n",
       "    }\n",
       "\n",
       "    .dataframe tbody tr th {\n",
       "        vertical-align: top;\n",
       "    }\n",
       "\n",
       "    .dataframe thead th {\n",
       "        text-align: right;\n",
       "    }\n",
       "</style>\n",
       "<table border=\"1\" class=\"dataframe\">\n",
       "  <thead>\n",
       "    <tr style=\"text-align: right;\">\n",
       "      <th></th>\n",
       "      <th>reviewId</th>\n",
       "      <th>userName</th>\n",
       "      <th>content</th>\n",
       "      <th>score</th>\n",
       "      <th>thumbsUpCount</th>\n",
       "      <th>reviewCreatedVersion</th>\n",
       "      <th>review_date</th>\n",
       "      <th>appVersion</th>\n",
       "    </tr>\n",
       "  </thead>\n",
       "  <tbody>\n",
       "    <tr>\n",
       "      <th>1</th>\n",
       "      <td>e20abe49-8fe7-42fe-af3a-91399875b21a</td>\n",
       "      <td>Abbatu Ermias</td>\n",
       "      <td>Awe ሃረፍ nawe</td>\n",
       "      <td>5</td>\n",
       "      <td>0</td>\n",
       "      <td>24.04.23</td>\n",
       "      <td>2024-05-21 05:06:05</td>\n",
       "      <td>24.04.23</td>\n",
       "    </tr>\n",
       "    <tr>\n",
       "      <th>4</th>\n",
       "      <td>20c4de51-f5cd-41f3-b21a-efdf8cb4463e</td>\n",
       "      <td>Eskender Million</td>\n",
       "      <td>It has a very complex, inconvenient to use, an...</td>\n",
       "      <td>1</td>\n",
       "      <td>1</td>\n",
       "      <td>24.04.23</td>\n",
       "      <td>2024-05-17 20:37:40</td>\n",
       "      <td>24.04.23</td>\n",
       "    </tr>\n",
       "    <tr>\n",
       "      <th>5</th>\n",
       "      <td>f7b29ba8-e90e-4dd6-bf6e-f1480b119456</td>\n",
       "      <td>Leta Teshome</td>\n",
       "      <td>Never try Apollo. To be honest, this app will ...</td>\n",
       "      <td>1</td>\n",
       "      <td>2</td>\n",
       "      <td>24.04.23</td>\n",
       "      <td>2024-05-17 00:40:28</td>\n",
       "      <td>24.04.23</td>\n",
       "    </tr>\n",
       "    <tr>\n",
       "      <th>6</th>\n",
       "      <td>250c64b7-029e-44d7-a9b2-7ce655198af7</td>\n",
       "      <td>adonias addis</td>\n",
       "      <td>I like</td>\n",
       "      <td>5</td>\n",
       "      <td>0</td>\n",
       "      <td>24.04.23</td>\n",
       "      <td>2024-05-16 20:36:19</td>\n",
       "      <td>24.04.23</td>\n",
       "    </tr>\n",
       "    <tr>\n",
       "      <th>8</th>\n",
       "      <td>fc32f69e-fc81-4697-a29e-5d45c57fe945</td>\n",
       "      <td>Lama Yig</td>\n",
       "      <td>This not more intractive and fast</td>\n",
       "      <td>1</td>\n",
       "      <td>0</td>\n",
       "      <td>23.08.03</td>\n",
       "      <td>2024-05-16 07:32:51</td>\n",
       "      <td>23.08.03</td>\n",
       "    </tr>\n",
       "    <tr>\n",
       "      <th>...</th>\n",
       "      <td>...</td>\n",
       "      <td>...</td>\n",
       "      <td>...</td>\n",
       "      <td>...</td>\n",
       "      <td>...</td>\n",
       "      <td>...</td>\n",
       "      <td>...</td>\n",
       "      <td>...</td>\n",
       "    </tr>\n",
       "    <tr>\n",
       "      <th>980</th>\n",
       "      <td>65b305bf-ce99-4b29-908d-9e6dd7cdb2b8</td>\n",
       "      <td>Lemi Tadesse</td>\n",
       "      <td>This app makes transactions easiest! I want to...</td>\n",
       "      <td>5</td>\n",
       "      <td>181</td>\n",
       "      <td>23.01.16</td>\n",
       "      <td>2023-02-08 15:18:43</td>\n",
       "      <td>23.01.16</td>\n",
       "    </tr>\n",
       "    <tr>\n",
       "      <th>988</th>\n",
       "      <td>565193a5-77c9-46bd-9bc1-81e91eabbf76</td>\n",
       "      <td>Ermiyas Abas Abdulahi</td>\n",
       "      <td>Excellent</td>\n",
       "      <td>4</td>\n",
       "      <td>0</td>\n",
       "      <td>23.01.16</td>\n",
       "      <td>2023-02-05 20:14:31</td>\n",
       "      <td>23.01.16</td>\n",
       "    </tr>\n",
       "    <tr>\n",
       "      <th>990</th>\n",
       "      <td>3ffa88e8-7593-46e3-a804-ffb9436d3aaa</td>\n",
       "      <td>semale sefa</td>\n",
       "      <td>Dese aylem</td>\n",
       "      <td>1</td>\n",
       "      <td>5</td>\n",
       "      <td>23.01.16</td>\n",
       "      <td>2023-02-04 16:27:05</td>\n",
       "      <td>23.01.16</td>\n",
       "    </tr>\n",
       "    <tr>\n",
       "      <th>992</th>\n",
       "      <td>5e598bd1-7a06-4f2c-af39-7022d8f630db</td>\n",
       "      <td>Abiy Addis</td>\n",
       "      <td>Honestly better than any other option. A bit s...</td>\n",
       "      <td>4</td>\n",
       "      <td>4</td>\n",
       "      <td>23.01.16</td>\n",
       "      <td>2023-02-03 23:48:06</td>\n",
       "      <td>23.01.16</td>\n",
       "    </tr>\n",
       "    <tr>\n",
       "      <th>994</th>\n",
       "      <td>2bfae76a-ad5b-439d-b23e-0efdea2e5018</td>\n",
       "      <td>Bonsa werkina</td>\n",
       "      <td>It seems best digital feature</td>\n",
       "      <td>5</td>\n",
       "      <td>1</td>\n",
       "      <td>23.01.16</td>\n",
       "      <td>2023-02-03 13:52:37</td>\n",
       "      <td>23.01.16</td>\n",
       "    </tr>\n",
       "  </tbody>\n",
       "</table>\n",
       "<p>649 rows × 8 columns</p>\n",
       "</div>"
      ],
      "text/plain": [
       "\n",
       "                                 reviewId               userName  \\\n",
       "\u001b[1;36m1\u001b[0m    \u001b[93me20abe49-8fe7-42fe-af3a-91399875b21a\u001b[0m          Abbatu Ermias   \n",
       "\u001b[1;36m4\u001b[0m    \u001b[93m20c4de51-f5cd-41f3-b21a-efdf8cb4463e\u001b[0m       Eskender Million   \n",
       "\u001b[1;36m5\u001b[0m    \u001b[93mf7b29ba8-e90e-4dd6-bf6e-f1480b119456\u001b[0m           Leta Teshome   \n",
       "\u001b[1;36m6\u001b[0m    \u001b[93m250c64b7-029e-44d7-a9b2-7ce655198af7\u001b[0m          adonias addis   \n",
       "\u001b[1;36m8\u001b[0m    \u001b[93mfc32f69e-fc81-4697-a29e-5d45c57fe945\u001b[0m               Lama Yig   \n",
       "..                                    \u001b[33m...\u001b[0m                    \u001b[33m...\u001b[0m   \n",
       "\u001b[1;36m980\u001b[0m  \u001b[93m65b305bf-ce99-4b29-908d-9e6dd7cdb2b8\u001b[0m           Lemi Tadesse   \n",
       "\u001b[1;36m988\u001b[0m  \u001b[93m565193a5-77c9-46bd-9bc1-81e91eabbf76\u001b[0m  Ermiyas Abas Abdulahi   \n",
       "\u001b[1;36m990\u001b[0m  \u001b[93m3ffa88e8-7593-46e3-a804-ffb9436d3aaa\u001b[0m            semale sefa   \n",
       "\u001b[1;36m992\u001b[0m  \u001b[93m5e598bd1-7a06-4f2c-af39-7022d8f630db\u001b[0m             Abiy Addis   \n",
       "\u001b[1;36m994\u001b[0m  \u001b[93m2bfae76a-ad5b-439d-b23e-0efdea2e5018\u001b[0m          Bonsa werkina   \n",
       "\n",
       "                                               content  score  thumbsUpCount  \\\n",
       "\u001b[1;36m1\u001b[0m                                         Awe ሃረፍ nawe      \u001b[1;36m5\u001b[0m              \u001b[1;36m0\u001b[0m   \n",
       "\u001b[1;36m4\u001b[0m    It has a very complex, inconvenient to use, an\u001b[33m...\u001b[0m      \u001b[1;36m1\u001b[0m              \u001b[1;36m1\u001b[0m   \n",
       "\u001b[1;36m5\u001b[0m    Never try Apollo. To be honest, this app will \u001b[33m...\u001b[0m      \u001b[1;36m1\u001b[0m              \u001b[1;36m2\u001b[0m   \n",
       "\u001b[1;36m6\u001b[0m                                               I like      \u001b[1;36m5\u001b[0m              \u001b[1;36m0\u001b[0m   \n",
       "\u001b[1;36m8\u001b[0m                    This not more intractive and fast      \u001b[1;36m1\u001b[0m              \u001b[1;36m0\u001b[0m   \n",
       "..                                                 \u001b[33m...\u001b[0m    \u001b[33m...\u001b[0m            \u001b[33m...\u001b[0m   \n",
       "\u001b[1;36m980\u001b[0m  This app makes transactions easiest! I want to\u001b[33m...\u001b[0m      \u001b[1;36m5\u001b[0m            \u001b[1;36m181\u001b[0m   \n",
       "\u001b[1;36m988\u001b[0m                                          Excellent      \u001b[1;36m4\u001b[0m              \u001b[1;36m0\u001b[0m   \n",
       "\u001b[1;36m990\u001b[0m                                         Dese aylem      \u001b[1;36m1\u001b[0m              \u001b[1;36m5\u001b[0m   \n",
       "\u001b[1;36m992\u001b[0m  Honestly better than any other option. A bit s\u001b[33m...\u001b[0m      \u001b[1;36m4\u001b[0m              \u001b[1;36m4\u001b[0m   \n",
       "\u001b[1;36m994\u001b[0m                      It seems best digital feature      \u001b[1;36m5\u001b[0m              \u001b[1;36m1\u001b[0m   \n",
       "\n",
       "    reviewCreatedVersion         review_date appVersion  \n",
       "\u001b[1;36m1\u001b[0m               \u001b[1;36m24.04\u001b[0m.\u001b[1;36m23\u001b[0m \u001b[1;36m2024\u001b[0m-\u001b[1;36m05\u001b[0m-\u001b[1;36m21\u001b[0m \u001b[1;92m05:06:05\u001b[0m   \u001b[1;36m24.04\u001b[0m.\u001b[1;36m23\u001b[0m  \n",
       "\u001b[1;36m4\u001b[0m               \u001b[1;36m24.04\u001b[0m.\u001b[1;36m23\u001b[0m \u001b[1;36m2024\u001b[0m-\u001b[1;36m05\u001b[0m-\u001b[1;36m17\u001b[0m \u001b[1;92m20:37:40\u001b[0m   \u001b[1;36m24.04\u001b[0m.\u001b[1;36m23\u001b[0m  \n",
       "\u001b[1;36m5\u001b[0m               \u001b[1;36m24.04\u001b[0m.\u001b[1;36m23\u001b[0m \u001b[1;36m2024\u001b[0m-\u001b[1;36m05\u001b[0m-\u001b[1;36m17\u001b[0m \u001b[1;92m00:40:28\u001b[0m   \u001b[1;36m24.04\u001b[0m.\u001b[1;36m23\u001b[0m  \n",
       "\u001b[1;36m6\u001b[0m               \u001b[1;36m24.04\u001b[0m.\u001b[1;36m23\u001b[0m \u001b[1;36m2024\u001b[0m-\u001b[1;36m05\u001b[0m-\u001b[1;36m16\u001b[0m \u001b[1;92m20:36:19\u001b[0m   \u001b[1;36m24.04\u001b[0m.\u001b[1;36m23\u001b[0m  \n",
       "\u001b[1;36m8\u001b[0m               \u001b[1;36m23.08\u001b[0m.\u001b[1;36m03\u001b[0m \u001b[1;36m2024\u001b[0m-\u001b[1;36m05\u001b[0m-\u001b[1;36m16\u001b[0m \u001b[1;92m07:32:51\u001b[0m   \u001b[1;36m23.08\u001b[0m.\u001b[1;36m03\u001b[0m  \n",
       "..                   \u001b[33m...\u001b[0m                 \u001b[33m...\u001b[0m        \u001b[33m...\u001b[0m  \n",
       "\u001b[1;36m980\u001b[0m             \u001b[1;36m23.01\u001b[0m.\u001b[1;36m16\u001b[0m \u001b[1;36m2023\u001b[0m-\u001b[1;36m02\u001b[0m-\u001b[1;36m08\u001b[0m \u001b[1;92m15:18:43\u001b[0m   \u001b[1;36m23.01\u001b[0m.\u001b[1;36m16\u001b[0m  \n",
       "\u001b[1;36m988\u001b[0m             \u001b[1;36m23.01\u001b[0m.\u001b[1;36m16\u001b[0m \u001b[1;36m2023\u001b[0m-\u001b[1;36m02\u001b[0m-\u001b[1;36m05\u001b[0m \u001b[1;92m20:14:31\u001b[0m   \u001b[1;36m23.01\u001b[0m.\u001b[1;36m16\u001b[0m  \n",
       "\u001b[1;36m990\u001b[0m             \u001b[1;36m23.01\u001b[0m.\u001b[1;36m16\u001b[0m \u001b[1;36m2023\u001b[0m-\u001b[1;36m02\u001b[0m-\u001b[1;36m04\u001b[0m \u001b[1;92m16:27:05\u001b[0m   \u001b[1;36m23.01\u001b[0m.\u001b[1;36m16\u001b[0m  \n",
       "\u001b[1;36m992\u001b[0m             \u001b[1;36m23.01\u001b[0m.\u001b[1;36m16\u001b[0m \u001b[1;36m2023\u001b[0m-\u001b[1;36m02\u001b[0m-\u001b[1;36m03\u001b[0m \u001b[1;92m23:48:06\u001b[0m   \u001b[1;36m23.01\u001b[0m.\u001b[1;36m16\u001b[0m  \n",
       "\u001b[1;36m994\u001b[0m             \u001b[1;36m23.01\u001b[0m.\u001b[1;36m16\u001b[0m \u001b[1;36m2023\u001b[0m-\u001b[1;36m02\u001b[0m-\u001b[1;36m03\u001b[0m \u001b[1;92m13:52:37\u001b[0m   \u001b[1;36m23.01\u001b[0m.\u001b[1;36m16\u001b[0m  \n",
       "\n",
       "\u001b[1m[\u001b[0m\u001b[1;36m649\u001b[0m rows x \u001b[1;36m8\u001b[0m columns\u001b[1m]\u001b[0m"
      ]
     },
     "metadata": {},
     "output_type": "display_data"
    }
   ],
   "source": [
    "cleaned_df = perform_data_cleaning(kedro_raw_df)\n",
    "display(cleaned_df)"
   ]
  },
  {
   "cell_type": "markdown",
   "id": "844f864a",
   "metadata": {},
   "source": [
    "## Saving Cleaned Dataset in Kedro Intermediate folder"
   ]
  },
  {
   "cell_type": "code",
   "execution_count": 9,
   "id": "2193f58b-22aa-4c0a-b828-136bf8555b72",
   "metadata": {},
   "outputs": [
    {
     "name": "stdout",
     "output_type": "stream",
     "text": [
      "Dataset saved to ..\\data/02_intermediate\\cleaned_reviews_df.csv\n"
     ]
    }
   ],
   "source": [
    "# Define output folder and file name\n",
    "output_folder = os.path.join('..', 'data/02_intermediate')\n",
    "filename = 'cleaned_reviews_df.csv'\n",
    "output_path = save_dataset(cleaned_df, output_folder, filename)"
   ]
  },
  {
   "cell_type": "code",
   "execution_count": null,
   "id": "b7456513-df75-449c-8a56-163d440e3213",
   "metadata": {},
   "outputs": [],
   "source": []
  }
 ],
 "metadata": {
  "kernelspec": {
   "display_name": "Python 3 (ipykernel)",
   "language": "python",
   "name": "python3"
  },
  "language_info": {
   "codemirror_mode": {
    "name": "ipython",
    "version": 3
   },
   "file_extension": ".py",
   "mimetype": "text/x-python",
   "name": "python",
   "nbconvert_exporter": "python",
   "pygments_lexer": "ipython3",
   "version": "3.9.13"
  }
 },
 "nbformat": 4,
 "nbformat_minor": 5
}
