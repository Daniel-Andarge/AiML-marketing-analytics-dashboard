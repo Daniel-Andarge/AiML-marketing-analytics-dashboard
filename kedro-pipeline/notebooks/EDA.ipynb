{
 "cells": [
  {
   "cell_type": "markdown",
   "id": "2eaf6d95-1126-479b-b6b7-2e4f7234a00e",
   "metadata": {},
   "source": [
    "# Exploratory Data Analysis (EDA)"
   ]
  },
  {
   "cell_type": "code",
   "execution_count": 1,
   "id": "e8f29498-9f96-4183-987a-e8d1d8c071c1",
   "metadata": {},
   "outputs": [],
   "source": [
    "import sys\n",
    "sys.path.append('../scripts')\n",
    "\n",
    "from data_pipeline import *"
   ]
  },
  {
   "cell_type": "markdown",
   "id": "b20c9a66-a444-4cb8-872a-5d89ad646789",
   "metadata": {},
   "source": [
    "## Fetch app reviews from  Google Play store."
   ]
  },
  {
   "cell_type": "code",
   "execution_count": 2,
   "id": "897bc5ce-5315-4d83-a676-f905f8df3e7c",
   "metadata": {},
   "outputs": [],
   "source": [
    "app_id = \"com.boa.apollo\"\n",
    "raw_reviews_df = fetch_app_reviews(app_id)"
   ]
  },
  {
   "cell_type": "code",
   "execution_count": 3,
   "id": "f40ff56d-92e6-40bf-9e39-06b44ee2e9dd",
   "metadata": {},
   "outputs": [
    {
     "data": {
      "text/html": [
       "<div>\n",
       "<style scoped>\n",
       "    .dataframe tbody tr th:only-of-type {\n",
       "        vertical-align: middle;\n",
       "    }\n",
       "\n",
       "    .dataframe tbody tr th {\n",
       "        vertical-align: top;\n",
       "    }\n",
       "\n",
       "    .dataframe thead th {\n",
       "        text-align: right;\n",
       "    }\n",
       "</style>\n",
       "<table border=\"1\" class=\"dataframe\">\n",
       "  <thead>\n",
       "    <tr style=\"text-align: right;\">\n",
       "      <th></th>\n",
       "      <th>reviewId</th>\n",
       "      <th>userName</th>\n",
       "      <th>userImage</th>\n",
       "      <th>content</th>\n",
       "      <th>score</th>\n",
       "      <th>thumbsUpCount</th>\n",
       "      <th>reviewCreatedVersion</th>\n",
       "      <th>at</th>\n",
       "      <th>replyContent</th>\n",
       "      <th>repliedAt</th>\n",
       "      <th>appVersion</th>\n",
       "    </tr>\n",
       "  </thead>\n",
       "  <tbody>\n",
       "    <tr>\n",
       "      <th>0</th>\n",
       "      <td>677af726-36b5-4a32-871c-d2baf1a8c303</td>\n",
       "      <td>Yonas Tadesse</td>\n",
       "      <td>https://play-lh.googleusercontent.com/a-/ALV-U...</td>\n",
       "      <td>Easily the worst electronic payment software b...</td>\n",
       "      <td>1</td>\n",
       "      <td>0</td>\n",
       "      <td>24.04.23</td>\n",
       "      <td>2024-05-23 12:03:54</td>\n",
       "      <td>None</td>\n",
       "      <td>None</td>\n",
       "      <td>24.04.23</td>\n",
       "    </tr>\n",
       "    <tr>\n",
       "      <th>1</th>\n",
       "      <td>738b6d3a-2d7f-4a82-bfe2-dcf32591f944</td>\n",
       "      <td>NAHOM NIGUSSIE</td>\n",
       "      <td>https://play-lh.googleusercontent.com/a-/ALV-U...</td>\n",
       "      <td>Slow and buggy crashed all the time need a lot...</td>\n",
       "      <td>2</td>\n",
       "      <td>1</td>\n",
       "      <td>None</td>\n",
       "      <td>2024-05-21 18:38:28</td>\n",
       "      <td>None</td>\n",
       "      <td>None</td>\n",
       "      <td>None</td>\n",
       "    </tr>\n",
       "    <tr>\n",
       "      <th>2</th>\n",
       "      <td>e20abe49-8fe7-42fe-af3a-91399875b21a</td>\n",
       "      <td>Abbatu Ermias</td>\n",
       "      <td>https://play-lh.googleusercontent.com/a/ACg8oc...</td>\n",
       "      <td>Awe ሃረፍ nawe</td>\n",
       "      <td>5</td>\n",
       "      <td>0</td>\n",
       "      <td>24.04.23</td>\n",
       "      <td>2024-05-21 05:06:05</td>\n",
       "      <td>None</td>\n",
       "      <td>None</td>\n",
       "      <td>24.04.23</td>\n",
       "    </tr>\n",
       "    <tr>\n",
       "      <th>3</th>\n",
       "      <td>55c833c8-a942-47bb-aaaa-e022f39e28af</td>\n",
       "      <td>Habtsh Darge</td>\n",
       "      <td>https://play-lh.googleusercontent.com/a/ACg8oc...</td>\n",
       "      <td>በጣም ቀፋፊ አፕ ነው ። ሰርቶ አያውቅም ። በጣም ብዙ ችግር አለበት ከአ...</td>\n",
       "      <td>1</td>\n",
       "      <td>0</td>\n",
       "      <td>None</td>\n",
       "      <td>2024-05-20 08:07:49</td>\n",
       "      <td>None</td>\n",
       "      <td>None</td>\n",
       "      <td>None</td>\n",
       "    </tr>\n",
       "    <tr>\n",
       "      <th>4</th>\n",
       "      <td>d62d6d95-2900-4038-aa26-c9b42835c971</td>\n",
       "      <td>Usman</td>\n",
       "      <td>https://play-lh.googleusercontent.com/a/ACg8oc...</td>\n",
       "      <td>This application is very bad . Please modify t...</td>\n",
       "      <td>1</td>\n",
       "      <td>0</td>\n",
       "      <td>None</td>\n",
       "      <td>2024-05-19 16:27:13</td>\n",
       "      <td>None</td>\n",
       "      <td>None</td>\n",
       "      <td>None</td>\n",
       "    </tr>\n",
       "    <tr>\n",
       "      <th>...</th>\n",
       "      <td>...</td>\n",
       "      <td>...</td>\n",
       "      <td>...</td>\n",
       "      <td>...</td>\n",
       "      <td>...</td>\n",
       "      <td>...</td>\n",
       "      <td>...</td>\n",
       "      <td>...</td>\n",
       "      <td>...</td>\n",
       "      <td>...</td>\n",
       "      <td>...</td>\n",
       "    </tr>\n",
       "    <tr>\n",
       "      <th>393</th>\n",
       "      <td>5ee5c9d0-fe53-4b22-9351-efeeceec762c</td>\n",
       "      <td>Betelhem Degele</td>\n",
       "      <td>https://play-lh.googleusercontent.com/a/ACg8oc...</td>\n",
       "      <td>Great app👏👏</td>\n",
       "      <td>5</td>\n",
       "      <td>0</td>\n",
       "      <td>None</td>\n",
       "      <td>2024-01-25 10:59:07</td>\n",
       "      <td>None</td>\n",
       "      <td>None</td>\n",
       "      <td>None</td>\n",
       "    </tr>\n",
       "    <tr>\n",
       "      <th>394</th>\n",
       "      <td>c87c1dc9-db9f-4664-9e00-bdd5f10fee40</td>\n",
       "      <td>Getayawkal Demissie</td>\n",
       "      <td>https://play-lh.googleusercontent.com/a-/ALV-U...</td>\n",
       "      <td>The app is not yet finalized I think. It crash...</td>\n",
       "      <td>2</td>\n",
       "      <td>3</td>\n",
       "      <td>23.12.18</td>\n",
       "      <td>2024-01-25 10:03:35</td>\n",
       "      <td>None</td>\n",
       "      <td>None</td>\n",
       "      <td>23.12.18</td>\n",
       "    </tr>\n",
       "    <tr>\n",
       "      <th>395</th>\n",
       "      <td>5430972b-cbbc-4cb1-b115-3827f27cd7a3</td>\n",
       "      <td>Hewan Merekelgn</td>\n",
       "      <td>https://play-lh.googleusercontent.com/a/ACg8oc...</td>\n",
       "      <td>Nays</td>\n",
       "      <td>5</td>\n",
       "      <td>0</td>\n",
       "      <td>24.01.17</td>\n",
       "      <td>2024-01-25 02:41:31</td>\n",
       "      <td>None</td>\n",
       "      <td>None</td>\n",
       "      <td>24.01.17</td>\n",
       "    </tr>\n",
       "    <tr>\n",
       "      <th>396</th>\n",
       "      <td>7a6178fc-1fc0-4ed7-a85d-b5efeb07b1f7</td>\n",
       "      <td>Emran esmael Jabir</td>\n",
       "      <td>https://play-lh.googleusercontent.com/a-/ALV-U...</td>\n",
       "      <td>Hadebera</td>\n",
       "      <td>5</td>\n",
       "      <td>0</td>\n",
       "      <td>24.01.17</td>\n",
       "      <td>2024-01-24 20:43:46</td>\n",
       "      <td>None</td>\n",
       "      <td>None</td>\n",
       "      <td>24.01.17</td>\n",
       "    </tr>\n",
       "    <tr>\n",
       "      <th>397</th>\n",
       "      <td>974bace8-15c7-479d-bbe0-928c67c40e62</td>\n",
       "      <td>Abdu Badlu</td>\n",
       "      <td>https://play-lh.googleusercontent.com/a-/ALV-U...</td>\n",
       "      <td>HuAwei y7a</td>\n",
       "      <td>4</td>\n",
       "      <td>0</td>\n",
       "      <td>23.12.29</td>\n",
       "      <td>2024-01-24 20:05:30</td>\n",
       "      <td>None</td>\n",
       "      <td>None</td>\n",
       "      <td>23.12.29</td>\n",
       "    </tr>\n",
       "  </tbody>\n",
       "</table>\n",
       "<p>398 rows × 11 columns</p>\n",
       "</div>"
      ],
      "text/plain": [
       "                                 reviewId             userName  \\\n",
       "0    677af726-36b5-4a32-871c-d2baf1a8c303        Yonas Tadesse   \n",
       "1    738b6d3a-2d7f-4a82-bfe2-dcf32591f944       NAHOM NIGUSSIE   \n",
       "2    e20abe49-8fe7-42fe-af3a-91399875b21a        Abbatu Ermias   \n",
       "3    55c833c8-a942-47bb-aaaa-e022f39e28af         Habtsh Darge   \n",
       "4    d62d6d95-2900-4038-aa26-c9b42835c971                Usman   \n",
       "..                                    ...                  ...   \n",
       "393  5ee5c9d0-fe53-4b22-9351-efeeceec762c      Betelhem Degele   \n",
       "394  c87c1dc9-db9f-4664-9e00-bdd5f10fee40  Getayawkal Demissie   \n",
       "395  5430972b-cbbc-4cb1-b115-3827f27cd7a3      Hewan Merekelgn   \n",
       "396  7a6178fc-1fc0-4ed7-a85d-b5efeb07b1f7   Emran esmael Jabir   \n",
       "397  974bace8-15c7-479d-bbe0-928c67c40e62           Abdu Badlu   \n",
       "\n",
       "                                             userImage  \\\n",
       "0    https://play-lh.googleusercontent.com/a-/ALV-U...   \n",
       "1    https://play-lh.googleusercontent.com/a-/ALV-U...   \n",
       "2    https://play-lh.googleusercontent.com/a/ACg8oc...   \n",
       "3    https://play-lh.googleusercontent.com/a/ACg8oc...   \n",
       "4    https://play-lh.googleusercontent.com/a/ACg8oc...   \n",
       "..                                                 ...   \n",
       "393  https://play-lh.googleusercontent.com/a/ACg8oc...   \n",
       "394  https://play-lh.googleusercontent.com/a-/ALV-U...   \n",
       "395  https://play-lh.googleusercontent.com/a/ACg8oc...   \n",
       "396  https://play-lh.googleusercontent.com/a-/ALV-U...   \n",
       "397  https://play-lh.googleusercontent.com/a-/ALV-U...   \n",
       "\n",
       "                                               content  score  thumbsUpCount  \\\n",
       "0    Easily the worst electronic payment software b...      1              0   \n",
       "1    Slow and buggy crashed all the time need a lot...      2              1   \n",
       "2                                         Awe ሃረፍ nawe      5              0   \n",
       "3    በጣም ቀፋፊ አፕ ነው ። ሰርቶ አያውቅም ። በጣም ብዙ ችግር አለበት ከአ...      1              0   \n",
       "4    This application is very bad . Please modify t...      1              0   \n",
       "..                                                 ...    ...            ...   \n",
       "393                                        Great app👏👏      5              0   \n",
       "394  The app is not yet finalized I think. It crash...      2              3   \n",
       "395                                               Nays      5              0   \n",
       "396                                           Hadebera      5              0   \n",
       "397                                         HuAwei y7a      4              0   \n",
       "\n",
       "    reviewCreatedVersion                  at replyContent repliedAt appVersion  \n",
       "0               24.04.23 2024-05-23 12:03:54         None      None   24.04.23  \n",
       "1                   None 2024-05-21 18:38:28         None      None       None  \n",
       "2               24.04.23 2024-05-21 05:06:05         None      None   24.04.23  \n",
       "3                   None 2024-05-20 08:07:49         None      None       None  \n",
       "4                   None 2024-05-19 16:27:13         None      None       None  \n",
       "..                   ...                 ...          ...       ...        ...  \n",
       "393                 None 2024-01-25 10:59:07         None      None       None  \n",
       "394             23.12.18 2024-01-25 10:03:35         None      None   23.12.18  \n",
       "395             24.01.17 2024-01-25 02:41:31         None      None   24.01.17  \n",
       "396             24.01.17 2024-01-24 20:43:46         None      None   24.01.17  \n",
       "397             23.12.29 2024-01-24 20:05:30         None      None   23.12.29  \n",
       "\n",
       "[398 rows x 11 columns]"
      ]
     },
     "metadata": {},
     "output_type": "display_data"
    }
   ],
   "source": [
    "display(raw_reviews_df)"
   ]
  },
  {
   "cell_type": "markdown",
   "id": "81b85cdb-6b98-4c45-992b-c1d93122d6f8",
   "metadata": {},
   "source": [
    "## Save raw data to kedro raw folder"
   ]
  },
  {
   "cell_type": "code",
   "execution_count": null,
   "id": "2bef0f00-4115-4416-9a25-fb6474f9c7e3",
   "metadata": {},
   "outputs": [],
   "source": [
    "# Define output folder and file name\n",
    "output_folder = os.path.join('..', 'data/01_raw')\n",
    "filename = 'raw_reviews_df.csv'\n",
    "output_path = save_dataset(raw_reviews_df, output_folder, filename)"
   ]
  },
  {
   "cell_type": "markdown",
   "id": "329f70d1-9339-42fd-ae04-aa88d674b1a4",
   "metadata": {},
   "source": [
    "## Load Data using Kedro"
   ]
  },
  {
   "cell_type": "code",
   "execution_count": null,
   "id": "c94b9594-6bdc-40d4-9d7e-fd7bca6f605b",
   "metadata": {},
   "outputs": [],
   "source": [
    "%load_ext kedro.ipython"
   ]
  },
  {
   "cell_type": "code",
   "execution_count": null,
   "id": "cdf7e513-a501-4523-9564-c5103375a6be",
   "metadata": {},
   "outputs": [],
   "source": [
    "kedro_raw_df = catalog.load(\"raw_data\")\n",
    "kedro_raw_df.head()"
   ]
  },
  {
   "cell_type": "markdown",
   "id": "1efff4ef-55f2-4ba5-9349-a80537c84796",
   "metadata": {},
   "source": [
    "## Data Understanding"
   ]
  },
  {
   "cell_type": "code",
   "execution_count": null,
   "id": "ac9f806e-1232-4f85-81d9-0f3e7060d10e",
   "metadata": {},
   "outputs": [],
   "source": [
    "kedro_raw_df.info()"
   ]
  },
  {
   "cell_type": "markdown",
   "id": "d9bdbe5a",
   "metadata": {},
   "source": [
    "## Data Cleaning"
   ]
  },
  {
   "cell_type": "code",
   "execution_count": null,
   "id": "ae78c869-a83a-4d57-a20c-4c33dfa385c8",
   "metadata": {},
   "outputs": [],
   "source": [
    "cleaned_df = perform_data_cleaning(kedro_raw_df)\n",
    "display(cleaned_df)"
   ]
  },
  {
   "cell_type": "markdown",
   "id": "844f864a",
   "metadata": {},
   "source": [
    "## Saving Cleaned Dataset in Kedro Intermediate folder"
   ]
  },
  {
   "cell_type": "code",
   "execution_count": null,
   "id": "2193f58b-22aa-4c0a-b828-136bf8555b72",
   "metadata": {},
   "outputs": [],
   "source": [
    "# Define output folder and file name\n",
    "output_folder = os.path.join('..', 'data/02_intermediate')\n",
    "filename = 'cleaned_reviews_df.csv'\n",
    "output_path = save_dataset(cleaned_df, output_folder, filename)"
   ]
  },
  {
   "cell_type": "code",
   "execution_count": null,
   "id": "b7456513-df75-449c-8a56-163d440e3213",
   "metadata": {},
   "outputs": [],
   "source": []
  },
  {
   "cell_type": "code",
   "execution_count": null,
   "id": "f2f6dad4-50cb-4fa6-b93c-7f1811dc3618",
   "metadata": {},
   "outputs": [],
   "source": []
  }
 ],
 "metadata": {
  "kernelspec": {
   "display_name": "Python 3 (ipykernel)",
   "language": "python",
   "name": "python3"
  },
  "language_info": {
   "codemirror_mode": {
    "name": "ipython",
    "version": 3
   },
   "file_extension": ".py",
   "mimetype": "text/x-python",
   "name": "python",
   "nbconvert_exporter": "python",
   "pygments_lexer": "ipython3",
   "version": "3.9.13"
  }
 },
 "nbformat": 4,
 "nbformat_minor": 5
}
