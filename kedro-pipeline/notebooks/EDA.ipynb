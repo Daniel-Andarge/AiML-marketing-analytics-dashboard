{
 "cells": [
  {
   "cell_type": "markdown",
   "id": "2eaf6d95-1126-479b-b6b7-2e4f7234a00e",
   "metadata": {},
   "source": [
    "# Exploratory Data Analysis (EDA)"
   ]
  },
  {
   "cell_type": "code",
<<<<<<< HEAD
   "execution_count": 1,
=======
   "execution_count": null,
>>>>>>> main
   "id": "e8f29498-9f96-4183-987a-e8d1d8c071c1",
   "metadata": {},
   "outputs": [],
   "source": [
<<<<<<< HEAD
=======
    "\n",
>>>>>>> main
    "import sys\n",
    "sys.path.append('../scripts')\n",
    "\n",
    "from data_pipeline import *"
   ]
  },
  {
   "cell_type": "markdown",
   "id": "b20c9a66-a444-4cb8-872a-5d89ad646789",
   "metadata": {},
   "source": [
    "## Fetch app reviews from  Google Play store."
   ]
  },
  {
   "cell_type": "code",
<<<<<<< HEAD
   "execution_count": 2,
=======
   "execution_count": null,
>>>>>>> main
   "id": "897bc5ce-5315-4d83-a676-f905f8df3e7c",
   "metadata": {},
   "outputs": [],
   "source": [
<<<<<<< HEAD
    "app_id = \"com.boa.apollo\"\n",
    "raw_reviews_df = fetch_app_reviews(app_id)"
=======
    "raw_app_reviews = fetch_app_reviews('com.boa.apollo')"
>>>>>>> main
   ]
  },
  {
   "cell_type": "code",
<<<<<<< HEAD
   "execution_count": 3,
   "id": "f40ff56d-92e6-40bf-9e39-06b44ee2e9dd",
=======
   "execution_count": null,
   "id": "8f88557d-977e-4372-a559-dda9431e112b",
>>>>>>> main
   "metadata": {},
   "outputs": [
    {
     "data": {
      "text/html": [
       "<div>\n",
       "<style scoped>\n",
       "    .dataframe tbody tr th:only-of-type {\n",
       "        vertical-align: middle;\n",
       "    }\n",
       "\n",
       "    .dataframe tbody tr th {\n",
       "        vertical-align: top;\n",
       "    }\n",
       "\n",
       "    .dataframe thead th {\n",
       "        text-align: right;\n",
       "    }\n",
       "</style>\n",
       "<table border=\"1\" class=\"dataframe\">\n",
       "  <thead>\n",
       "    <tr style=\"text-align: right;\">\n",
       "      <th></th>\n",
       "      <th>reviewId</th>\n",
       "      <th>userName</th>\n",
       "      <th>userImage</th>\n",
       "      <th>content</th>\n",
       "      <th>score</th>\n",
       "      <th>thumbsUpCount</th>\n",
       "      <th>reviewCreatedVersion</th>\n",
       "      <th>at</th>\n",
       "      <th>replyContent</th>\n",
       "      <th>repliedAt</th>\n",
       "      <th>appVersion</th>\n",
       "    </tr>\n",
       "  </thead>\n",
       "  <tbody>\n",
       "    <tr>\n",
       "      <th>0</th>\n",
<<<<<<< HEAD
       "      <td>677af726-36b5-4a32-871c-d2baf1a8c303</td>\n",
       "      <td>Yonas Tadesse</td>\n",
       "      <td>https://play-lh.googleusercontent.com/a-/ALV-U...</td>\n",
       "      <td>Easily the worst electronic payment software b...</td>\n",
       "      <td>1</td>\n",
       "      <td>0</td>\n",
       "      <td>24.04.23</td>\n",
       "      <td>2024-05-23 12:03:54</td>\n",
       "      <td>None</td>\n",
       "      <td>None</td>\n",
       "      <td>24.04.23</td>\n",
       "    </tr>\n",
       "    <tr>\n",
       "      <th>1</th>\n",
=======
>>>>>>> main
       "      <td>738b6d3a-2d7f-4a82-bfe2-dcf32591f944</td>\n",
       "      <td>NAHOM NIGUSSIE</td>\n",
       "      <td>https://play-lh.googleusercontent.com/a-/ALV-U...</td>\n",
       "      <td>Slow and buggy crashed all the time need a lot...</td>\n",
       "      <td>2</td>\n",
<<<<<<< HEAD
       "      <td>1</td>\n",
=======
       "      <td>0</td>\n",
>>>>>>> main
       "      <td>None</td>\n",
       "      <td>2024-05-21 18:38:28</td>\n",
       "      <td>None</td>\n",
       "      <td>None</td>\n",
       "      <td>None</td>\n",
       "    </tr>\n",
       "    <tr>\n",
<<<<<<< HEAD
       "      <th>2</th>\n",
=======
       "      <th>1</th>\n",
>>>>>>> main
       "      <td>e20abe49-8fe7-42fe-af3a-91399875b21a</td>\n",
       "      <td>Abbatu Ermias</td>\n",
       "      <td>https://play-lh.googleusercontent.com/a/ACg8oc...</td>\n",
       "      <td>Awe ሃረፍ nawe</td>\n",
       "      <td>5</td>\n",
       "      <td>0</td>\n",
       "      <td>24.04.23</td>\n",
       "      <td>2024-05-21 05:06:05</td>\n",
       "      <td>None</td>\n",
       "      <td>None</td>\n",
       "      <td>24.04.23</td>\n",
       "    </tr>\n",
       "    <tr>\n",
<<<<<<< HEAD
       "      <th>3</th>\n",
=======
       "      <th>2</th>\n",
>>>>>>> main
       "      <td>55c833c8-a942-47bb-aaaa-e022f39e28af</td>\n",
       "      <td>Habtsh Darge</td>\n",
       "      <td>https://play-lh.googleusercontent.com/a/ACg8oc...</td>\n",
       "      <td>በጣም ቀፋፊ አፕ ነው ። ሰርቶ አያውቅም ። በጣም ብዙ ችግር አለበት ከአ...</td>\n",
       "      <td>1</td>\n",
       "      <td>0</td>\n",
       "      <td>None</td>\n",
       "      <td>2024-05-20 08:07:49</td>\n",
       "      <td>None</td>\n",
       "      <td>None</td>\n",
       "      <td>None</td>\n",
       "    </tr>\n",
       "    <tr>\n",
<<<<<<< HEAD
       "      <th>4</th>\n",
=======
       "      <th>3</th>\n",
>>>>>>> main
       "      <td>d62d6d95-2900-4038-aa26-c9b42835c971</td>\n",
       "      <td>Usman</td>\n",
       "      <td>https://play-lh.googleusercontent.com/a/ACg8oc...</td>\n",
       "      <td>This application is very bad . Please modify t...</td>\n",
       "      <td>1</td>\n",
       "      <td>0</td>\n",
       "      <td>None</td>\n",
       "      <td>2024-05-19 16:27:13</td>\n",
       "      <td>None</td>\n",
       "      <td>None</td>\n",
       "      <td>None</td>\n",
       "    </tr>\n",
       "    <tr>\n",
<<<<<<< HEAD
=======
       "      <th>4</th>\n",
       "      <td>20c4de51-f5cd-41f3-b21a-efdf8cb4463e</td>\n",
       "      <td>Eskender Million</td>\n",
       "      <td>https://play-lh.googleusercontent.com/a-/ALV-U...</td>\n",
       "      <td>It has a very complex, inconvenient to use, an...</td>\n",
       "      <td>1</td>\n",
       "      <td>1</td>\n",
       "      <td>24.04.23</td>\n",
       "      <td>2024-05-17 20:37:40</td>\n",
       "      <td>None</td>\n",
       "      <td>None</td>\n",
       "      <td>24.04.23</td>\n",
       "    </tr>\n",
       "    <tr>\n",
>>>>>>> main
       "      <th>...</th>\n",
       "      <td>...</td>\n",
       "      <td>...</td>\n",
       "      <td>...</td>\n",
       "      <td>...</td>\n",
       "      <td>...</td>\n",
       "      <td>...</td>\n",
       "      <td>...</td>\n",
       "      <td>...</td>\n",
       "      <td>...</td>\n",
       "      <td>...</td>\n",
       "      <td>...</td>\n",
       "    </tr>\n",
       "    <tr>\n",
<<<<<<< HEAD
       "      <th>194</th>\n",
       "      <td>fa4c2953-6e62-4766-9e3b-e47d460d7fe2</td>\n",
       "      <td>Etsay Siyum</td>\n",
       "      <td>https://play-lh.googleusercontent.com/a/ACg8oc...</td>\n",
       "      <td>this app is very smart app</td>\n",
       "      <td>5</td>\n",
       "      <td>1</td>\n",
       "      <td>24.03.04</td>\n",
       "      <td>2024-03-27 21:02:34</td>\n",
       "      <td>None</td>\n",
       "      <td>None</td>\n",
       "      <td>24.03.04</td>\n",
       "    </tr>\n",
       "    <tr>\n",
       "      <th>195</th>\n",
       "      <td>24fb0068-406b-45e7-9794-0ad647b9ffba</td>\n",
       "      <td>Eden Haile</td>\n",
       "      <td>https://play-lh.googleusercontent.com/a/ACg8oc...</td>\n",
       "      <td>Even a kid can make a bettet app than this, BO...</td>\n",
       "      <td>1</td>\n",
       "      <td>0</td>\n",
       "      <td>None</td>\n",
       "      <td>2024-03-27 16:31:30</td>\n",
       "      <td>None</td>\n",
       "      <td>None</td>\n",
       "      <td>None</td>\n",
       "    </tr>\n",
       "    <tr>\n",
       "      <th>196</th>\n",
       "      <td>963cb86e-906f-43b0-af68-e34f565a59a6</td>\n",
       "      <td>Wedeneh Bekele</td>\n",
       "      <td>https://play-lh.googleusercontent.com/a/ACg8oc...</td>\n",
       "      <td>Wedeneh</td>\n",
       "      <td>5</td>\n",
       "      <td>0</td>\n",
       "      <td>None</td>\n",
       "      <td>2024-03-27 07:47:47</td>\n",
       "      <td>None</td>\n",
       "      <td>None</td>\n",
       "      <td>None</td>\n",
       "    </tr>\n",
       "    <tr>\n",
       "      <th>197</th>\n",
       "      <td>5fffa428-67f3-4271-8a5d-8418797b96d2</td>\n",
       "      <td>Abdilkaf Dula</td>\n",
       "      <td>https://play-lh.googleusercontent.com/a-/ALV-U...</td>\n",
       "      <td>Nic app</td>\n",
       "      <td>5</td>\n",
       "      <td>0</td>\n",
       "      <td>24.03.04</td>\n",
       "      <td>2024-03-27 02:18:01</td>\n",
       "      <td>None</td>\n",
       "      <td>None</td>\n",
       "      <td>24.03.04</td>\n",
       "    </tr>\n",
       "    <tr>\n",
       "      <th>198</th>\n",
       "      <td>a2145b08-443c-4ee6-9d75-644284f8af07</td>\n",
       "      <td>Kifle Tafese</td>\n",
       "      <td>https://play-lh.googleusercontent.com/a/ACg8oc...</td>\n",
       "      <td>.wow</td>\n",
       "      <td>5</td>\n",
       "      <td>0</td>\n",
       "      <td>24.03.04</td>\n",
       "      <td>2024-03-26 09:37:05</td>\n",
       "      <td>None</td>\n",
       "      <td>None</td>\n",
       "      <td>24.03.04</td>\n",
       "    </tr>\n",
       "  </tbody>\n",
       "</table>\n",
       "<p>199 rows × 11 columns</p>\n",
       "</div>"
      ],
      "text/plain": [
       "                                 reviewId        userName  \\\n",
       "0    677af726-36b5-4a32-871c-d2baf1a8c303   Yonas Tadesse   \n",
       "1    738b6d3a-2d7f-4a82-bfe2-dcf32591f944  NAHOM NIGUSSIE   \n",
       "2    e20abe49-8fe7-42fe-af3a-91399875b21a   Abbatu Ermias   \n",
       "3    55c833c8-a942-47bb-aaaa-e022f39e28af    Habtsh Darge   \n",
       "4    d62d6d95-2900-4038-aa26-c9b42835c971           Usman   \n",
       "..                                    ...             ...   \n",
       "194  fa4c2953-6e62-4766-9e3b-e47d460d7fe2     Etsay Siyum   \n",
       "195  24fb0068-406b-45e7-9794-0ad647b9ffba      Eden Haile   \n",
       "196  963cb86e-906f-43b0-af68-e34f565a59a6  Wedeneh Bekele   \n",
       "197  5fffa428-67f3-4271-8a5d-8418797b96d2   Abdilkaf Dula   \n",
       "198  a2145b08-443c-4ee6-9d75-644284f8af07    Kifle Tafese   \n",
       "\n",
       "                                             userImage  \\\n",
       "0    https://play-lh.googleusercontent.com/a-/ALV-U...   \n",
       "1    https://play-lh.googleusercontent.com/a-/ALV-U...   \n",
       "2    https://play-lh.googleusercontent.com/a/ACg8oc...   \n",
       "3    https://play-lh.googleusercontent.com/a/ACg8oc...   \n",
       "4    https://play-lh.googleusercontent.com/a/ACg8oc...   \n",
       "..                                                 ...   \n",
       "194  https://play-lh.googleusercontent.com/a/ACg8oc...   \n",
       "195  https://play-lh.googleusercontent.com/a/ACg8oc...   \n",
       "196  https://play-lh.googleusercontent.com/a/ACg8oc...   \n",
       "197  https://play-lh.googleusercontent.com/a-/ALV-U...   \n",
       "198  https://play-lh.googleusercontent.com/a/ACg8oc...   \n",
       "\n",
       "                                               content  score  thumbsUpCount  \\\n",
       "0    Easily the worst electronic payment software b...      1              0   \n",
       "1    Slow and buggy crashed all the time need a lot...      2              1   \n",
       "2                                         Awe ሃረፍ nawe      5              0   \n",
       "3    በጣም ቀፋፊ አፕ ነው ። ሰርቶ አያውቅም ። በጣም ብዙ ችግር አለበት ከአ...      1              0   \n",
       "4    This application is very bad . Please modify t...      1              0   \n",
       "..                                                 ...    ...            ...   \n",
       "194                         this app is very smart app      5              1   \n",
       "195  Even a kid can make a bettet app than this, BO...      1              0   \n",
       "196                                            Wedeneh      5              0   \n",
       "197                                            Nic app      5              0   \n",
       "198                                               .wow      5              0   \n",
       "\n",
       "    reviewCreatedVersion                  at replyContent repliedAt appVersion  \n",
       "0               24.04.23 2024-05-23 12:03:54         None      None   24.04.23  \n",
       "1                   None 2024-05-21 18:38:28         None      None       None  \n",
       "2               24.04.23 2024-05-21 05:06:05         None      None   24.04.23  \n",
       "3                   None 2024-05-20 08:07:49         None      None       None  \n",
       "4                   None 2024-05-19 16:27:13         None      None       None  \n",
       "..                   ...                 ...          ...       ...        ...  \n",
       "194             24.03.04 2024-03-27 21:02:34         None      None   24.03.04  \n",
       "195                 None 2024-03-27 16:31:30         None      None       None  \n",
       "196                 None 2024-03-27 07:47:47         None      None       None  \n",
       "197             24.03.04 2024-03-27 02:18:01         None      None   24.03.04  \n",
       "198             24.03.04 2024-03-26 09:37:05         None      None   24.03.04  \n",
       "\n",
       "[199 rows x 11 columns]"
=======
       "      <th>990</th>\n",
       "      <td>3ffa88e8-7593-46e3-a804-ffb9436d3aaa</td>\n",
       "      <td>semale sefa</td>\n",
       "      <td>https://play-lh.googleusercontent.com/a/ACg8oc...</td>\n",
       "      <td>Dese aylem</td>\n",
       "      <td>1</td>\n",
       "      <td>5</td>\n",
       "      <td>23.01.16</td>\n",
       "      <td>2023-02-04 16:27:05</td>\n",
       "      <td>None</td>\n",
       "      <td>None</td>\n",
       "      <td>23.01.16</td>\n",
       "    </tr>\n",
       "    <tr>\n",
       "      <th>991</th>\n",
       "      <td>72510a0b-44e9-4d65-a73a-848ab1393fe5</td>\n",
       "      <td>church tube</td>\n",
       "      <td>https://play-lh.googleusercontent.com/a-/ALV-U...</td>\n",
       "      <td>Nice</td>\n",
       "      <td>5</td>\n",
       "      <td>0</td>\n",
       "      <td>None</td>\n",
       "      <td>2023-02-04 10:32:49</td>\n",
       "      <td>None</td>\n",
       "      <td>None</td>\n",
       "      <td>None</td>\n",
       "    </tr>\n",
       "    <tr>\n",
       "      <th>992</th>\n",
       "      <td>5e598bd1-7a06-4f2c-af39-7022d8f630db</td>\n",
       "      <td>Abiy Addis</td>\n",
       "      <td>https://play-lh.googleusercontent.com/a-/ALV-U...</td>\n",
       "      <td>Honestly better than any other option. A bit s...</td>\n",
       "      <td>4</td>\n",
       "      <td>4</td>\n",
       "      <td>23.01.16</td>\n",
       "      <td>2023-02-03 23:48:06</td>\n",
       "      <td>None</td>\n",
       "      <td>None</td>\n",
       "      <td>23.01.16</td>\n",
       "    </tr>\n",
       "    <tr>\n",
       "      <th>993</th>\n",
       "      <td>acdf7b7e-a4eb-484f-8804-4d14291a39f9</td>\n",
       "      <td>Titanic Tube</td>\n",
       "      <td>https://play-lh.googleusercontent.com/a-/ALV-U...</td>\n",
       "      <td>Best app ever</td>\n",
       "      <td>5</td>\n",
       "      <td>0</td>\n",
       "      <td>None</td>\n",
       "      <td>2023-02-03 16:25:59</td>\n",
       "      <td>None</td>\n",
       "      <td>None</td>\n",
       "      <td>None</td>\n",
       "    </tr>\n",
       "    <tr>\n",
       "      <th>994</th>\n",
       "      <td>2bfae76a-ad5b-439d-b23e-0efdea2e5018</td>\n",
       "      <td>Bonsa werkina</td>\n",
       "      <td>https://play-lh.googleusercontent.com/a/ACg8oc...</td>\n",
       "      <td>It seems best digital feature</td>\n",
       "      <td>5</td>\n",
       "      <td>1</td>\n",
       "      <td>23.01.16</td>\n",
       "      <td>2023-02-03 13:52:37</td>\n",
       "      <td>None</td>\n",
       "      <td>None</td>\n",
       "      <td>23.01.16</td>\n",
       "    </tr>\n",
       "  </tbody>\n",
       "</table>\n",
       "<p>995 rows × 11 columns</p>\n",
       "</div>"
      ],
      "text/plain": [
       "                                 reviewId          userName  \\\n",
       "0    738b6d3a-2d7f-4a82-bfe2-dcf32591f944    NAHOM NIGUSSIE   \n",
       "1    e20abe49-8fe7-42fe-af3a-91399875b21a     Abbatu Ermias   \n",
       "2    55c833c8-a942-47bb-aaaa-e022f39e28af      Habtsh Darge   \n",
       "3    d62d6d95-2900-4038-aa26-c9b42835c971             Usman   \n",
       "4    20c4de51-f5cd-41f3-b21a-efdf8cb4463e  Eskender Million   \n",
       "..                                    ...               ...   \n",
       "990  3ffa88e8-7593-46e3-a804-ffb9436d3aaa       semale sefa   \n",
       "991  72510a0b-44e9-4d65-a73a-848ab1393fe5       church tube   \n",
       "992  5e598bd1-7a06-4f2c-af39-7022d8f630db        Abiy Addis   \n",
       "993  acdf7b7e-a4eb-484f-8804-4d14291a39f9      Titanic Tube   \n",
       "994  2bfae76a-ad5b-439d-b23e-0efdea2e5018     Bonsa werkina   \n",
       "\n",
       "                                             userImage  \\\n",
       "0    https://play-lh.googleusercontent.com/a-/ALV-U...   \n",
       "1    https://play-lh.googleusercontent.com/a/ACg8oc...   \n",
       "2    https://play-lh.googleusercontent.com/a/ACg8oc...   \n",
       "3    https://play-lh.googleusercontent.com/a/ACg8oc...   \n",
       "4    https://play-lh.googleusercontent.com/a-/ALV-U...   \n",
       "..                                                 ...   \n",
       "990  https://play-lh.googleusercontent.com/a/ACg8oc...   \n",
       "991  https://play-lh.googleusercontent.com/a-/ALV-U...   \n",
       "992  https://play-lh.googleusercontent.com/a-/ALV-U...   \n",
       "993  https://play-lh.googleusercontent.com/a-/ALV-U...   \n",
       "994  https://play-lh.googleusercontent.com/a/ACg8oc...   \n",
       "\n",
       "                                               content  score  thumbsUpCount  \\\n",
       "0    Slow and buggy crashed all the time need a lot...      2              0   \n",
       "1                                         Awe ሃረፍ nawe      5              0   \n",
       "2    በጣም ቀፋፊ አፕ ነው ። ሰርቶ አያውቅም ። በጣም ብዙ ችግር አለበት ከአ...      1              0   \n",
       "3    This application is very bad . Please modify t...      1              0   \n",
       "4    It has a very complex, inconvenient to use, an...      1              1   \n",
       "..                                                 ...    ...            ...   \n",
       "990                                         Dese aylem      1              5   \n",
       "991                                               Nice      5              0   \n",
       "992  Honestly better than any other option. A bit s...      4              4   \n",
       "993                                      Best app ever      5              0   \n",
       "994                      It seems best digital feature      5              1   \n",
       "\n",
       "    reviewCreatedVersion                  at replyContent repliedAt appVersion  \n",
       "0                   None 2024-05-21 18:38:28         None      None       None  \n",
       "1               24.04.23 2024-05-21 05:06:05         None      None   24.04.23  \n",
       "2                   None 2024-05-20 08:07:49         None      None       None  \n",
       "3                   None 2024-05-19 16:27:13         None      None       None  \n",
       "4               24.04.23 2024-05-17 20:37:40         None      None   24.04.23  \n",
       "..                   ...                 ...          ...       ...        ...  \n",
       "990             23.01.16 2023-02-04 16:27:05         None      None   23.01.16  \n",
       "991                 None 2023-02-04 10:32:49         None      None       None  \n",
       "992             23.01.16 2023-02-03 23:48:06         None      None   23.01.16  \n",
       "993                 None 2023-02-03 16:25:59         None      None       None  \n",
       "994             23.01.16 2023-02-03 13:52:37         None      None   23.01.16  \n",
       "\n",
       "[995 rows x 11 columns]"
>>>>>>> main
      ]
     },
     "metadata": {},
     "output_type": "display_data"
    }
   ],
   "source": [
<<<<<<< HEAD
    "display(raw_reviews_df)"
   ]
  },
  {
   "cell_type": "markdown",
   "id": "81b85cdb-6b98-4c45-992b-c1d93122d6f8",
   "metadata": {},
   "source": [
    "## Save raw data to kedro raw folder"
   ]
  },
  {
   "cell_type": "code",
   "execution_count": null,
   "id": "2bef0f00-4115-4416-9a25-fb6474f9c7e3",
   "metadata": {},
   "outputs": [],
   "source": [
    "# Define output folder and file name\n",
    "output_folder = os.path.join('..', 'data/01_raw')\n",
    "filename = 'raw_reviews_df.csv'\n",
    "output_path = save_dataset(raw_reviews_df, output_folder, filename)"
   ]
  },
  {
   "cell_type": "markdown",
   "id": "329f70d1-9339-42fd-ae04-aa88d674b1a4",
   "metadata": {},
   "source": [
    "## Load Data using Kedro"
   ]
  },
  {
   "cell_type": "code",
   "execution_count": null,
   "id": "c94b9594-6bdc-40d4-9d7e-fd7bca6f605b",
   "metadata": {},
   "outputs": [],
   "source": [
    "%load_ext kedro.ipython"
   ]
  },
  {
   "cell_type": "code",
   "execution_count": null,
   "id": "cdf7e513-a501-4523-9564-c5103375a6be",
   "metadata": {},
   "outputs": [],
   "source": [
    "kedro_raw_df = catalog.load(\"raw_data\")\n",
    "kedro_raw_df.head()"
=======
    "display(raw_app_reviews)"
>>>>>>> main
   ]
  },
  {
   "cell_type": "markdown",
   "id": "1efff4ef-55f2-4ba5-9349-a80537c84796",
   "metadata": {},
   "source": [
    "## Data Understanding"
   ]
  },
  {
   "cell_type": "code",
<<<<<<< HEAD
   "execution_count": null,
   "id": "ac9f806e-1232-4f85-81d9-0f3e7060d10e",
   "metadata": {},
   "outputs": [],
   "source": [
    "kedro_raw_df.info()"
=======
   "execution_count": 10,
   "id": "ac9f806e-1232-4f85-81d9-0f3e7060d10e",
   "metadata": {},
   "outputs": [
    {
     "name": "stdout",
     "output_type": "stream",
     "text": [
      "<class 'pandas.core.frame.DataFrame'>\n",
      "RangeIndex: 995 entries, 0 to 994\n",
      "Data columns (total 11 columns):\n",
      " #   Column                Non-Null Count  Dtype         \n",
      "---  ------                --------------  -----         \n",
      " 0   reviewId              995 non-null    object        \n",
      " 1   userName              995 non-null    object        \n",
      " 2   userImage             995 non-null    object        \n",
      " 3   content               995 non-null    object        \n",
      " 4   score                 995 non-null    int64         \n",
      " 5   thumbsUpCount         995 non-null    int64         \n",
      " 6   reviewCreatedVersion  649 non-null    object        \n",
      " 7   at                    995 non-null    datetime64[ns]\n",
      " 8   replyContent          0 non-null      object        \n",
      " 9   repliedAt             0 non-null      object        \n",
      " 10  appVersion            649 non-null    object        \n",
      "dtypes: datetime64[ns](1), int64(2), object(8)\n",
      "memory usage: 85.6+ KB\n"
     ]
    }
   ],
   "source": [
    "raw_app_reviews.info()"
>>>>>>> main
   ]
  },
  {
   "cell_type": "markdown",
   "id": "d9bdbe5a",
   "metadata": {},
   "source": [
    "## Data Cleaning"
   ]
  },
  {
   "cell_type": "code",
   "execution_count": null,
   "id": "ae78c869-a83a-4d57-a20c-4c33dfa385c8",
   "metadata": {},
   "outputs": [],
   "source": [
<<<<<<< HEAD
    "cleaned_df = perform_data_cleaning(kedro_raw_df)\n",
=======
    "cleaned_df = perform_data_cleaning(raw_app_reviews)"
   ]
  },
  {
   "cell_type": "code",
   "execution_count": null,
   "id": "0c68de02",
   "metadata": {},
   "outputs": [],
   "source": [
>>>>>>> main
    "display(cleaned_df)"
   ]
  },
  {
   "cell_type": "markdown",
   "id": "844f864a",
   "metadata": {},
   "source": [
<<<<<<< HEAD
    "## Saving Cleaned Dataset in Kedro Intermediate folder"
   ]
  },
  {
   "cell_type": "code",
   "execution_count": null,
   "id": "2193f58b-22aa-4c0a-b828-136bf8555b72",
   "metadata": {},
   "outputs": [],
   "source": [
    "# Define output folder and file name\n",
    "output_folder = os.path.join('..', 'data/02_intermediate')\n",
    "filename = 'cleaned_reviews_df.csv'\n",
    "output_path = save_dataset(cleaned_df, output_folder, filename)"
   ]
  },
  {
   "cell_type": "code",
   "execution_count": null,
   "id": "b7456513-df75-449c-8a56-163d440e3213",
   "metadata": {},
   "outputs": [],
   "source": []
  },
  {
   "cell_type": "code",
   "execution_count": null,
   "id": "f2f6dad4-50cb-4fa6-b93c-7f1811dc3618",
   "metadata": {},
   "outputs": [],
=======
    "## Save Cleaned Dataset"
   ]
  },
  {
   "cell_type": "markdown",
   "id": "dec256f3",
   "metadata": {},
>>>>>>> main
   "source": []
  }
 ],
 "metadata": {
  "kernelspec": {
   "display_name": "Python 3 (ipykernel)",
   "language": "python",
   "name": "python3"
  },
  "language_info": {
   "codemirror_mode": {
    "name": "ipython",
    "version": 3
   },
   "file_extension": ".py",
   "mimetype": "text/x-python",
   "name": "python",
   "nbconvert_exporter": "python",
   "pygments_lexer": "ipython3",
<<<<<<< HEAD
   "version": "3.9.13"
=======
   "version": "3.12.0"
>>>>>>> main
  }
 },
 "nbformat": 4,
 "nbformat_minor": 5
}
