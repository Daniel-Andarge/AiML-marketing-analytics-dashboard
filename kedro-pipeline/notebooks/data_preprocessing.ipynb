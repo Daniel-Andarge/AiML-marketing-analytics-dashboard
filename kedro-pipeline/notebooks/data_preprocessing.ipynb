{
 "cells": [
  {
   "cell_type": "markdown",
   "id": "2eaf6d95-1126-479b-b6b7-2e4f7234a00e",
   "metadata": {},
   "source": [
    "# Data Preprocessing"
   ]
  },
  {
   "cell_type": "code",
<<<<<<< HEAD:kedro-pipeline/notebooks/data_preprocessing.ipynb
   "execution_count": 1,
=======
<<<<<<< HEAD
   "execution_count": null,
=======
   "execution_count": 1,
>>>>>>> a85b2c8566f200c2edc2867ff6cbb19652709b43
>>>>>>> main:kedro-pipeline/notebooks/EDA.ipynb
   "id": "e8f29498-9f96-4183-987a-e8d1d8c071c1",
   "metadata": {},
   "outputs": [],
   "source": [
<<<<<<< HEAD
    "\n",
=======
>>>>>>> a85b2c8566f200c2edc2867ff6cbb19652709b43
    "import sys\n",
    "sys.path.append('../scripts')\n",
    "\n",
    "from data_pipeline import *"
   ]
  },
  {
   "cell_type": "markdown",
   "id": "b20c9a66-a444-4cb8-872a-5d89ad646789",
   "metadata": {},
   "source": [
    "## Fetch app reviews from  Google Play store."
   ]
  },
  {
   "cell_type": "code",
<<<<<<< HEAD:kedro-pipeline/notebooks/data_preprocessing.ipynb
   "execution_count": 2,
=======
<<<<<<< HEAD
   "execution_count": null,
=======
   "execution_count": 2,
>>>>>>> a85b2c8566f200c2edc2867ff6cbb19652709b43
>>>>>>> main:kedro-pipeline/notebooks/EDA.ipynb
   "id": "897bc5ce-5315-4d83-a676-f905f8df3e7c",
   "metadata": {},
   "outputs": [],
   "source": [
<<<<<<< HEAD
    "raw_app_reviews = fetch_app_reviews('com.boa.apollo')"
=======
    "app_id = \"com.boa.apollo\"\n",
    "raw_reviews_df = fetch_app_reviews(app_id)"
>>>>>>> a85b2c8566f200c2edc2867ff6cbb19652709b43
   ]
  },
  {
   "cell_type": "code",
<<<<<<< HEAD:kedro-pipeline/notebooks/data_preprocessing.ipynb
   "execution_count": 4,
=======
<<<<<<< HEAD
   "execution_count": null,
>>>>>>> main:kedro-pipeline/notebooks/EDA.ipynb
   "id": "8f88557d-977e-4372-a559-dda9431e112b",
=======
   "execution_count": 3,
   "id": "f40ff56d-92e6-40bf-9e39-06b44ee2e9dd",
>>>>>>> a85b2c8566f200c2edc2867ff6cbb19652709b43
   "metadata": {},
   "outputs": [
    {
     "data": {
      "text/html": [
       "<div>\n",
       "<style scoped>\n",
       "    .dataframe tbody tr th:only-of-type {\n",
       "        vertical-align: middle;\n",
       "    }\n",
       "\n",
       "    .dataframe tbody tr th {\n",
       "        vertical-align: top;\n",
       "    }\n",
       "\n",
       "    .dataframe thead th {\n",
       "        text-align: right;\n",
       "    }\n",
       "</style>\n",
       "<table border=\"1\" class=\"dataframe\">\n",
       "  <thead>\n",
       "    <tr style=\"text-align: right;\">\n",
       "      <th></th>\n",
       "      <th>reviewId</th>\n",
       "      <th>userName</th>\n",
       "      <th>userImage</th>\n",
       "      <th>content</th>\n",
       "      <th>score</th>\n",
       "      <th>thumbsUpCount</th>\n",
       "      <th>reviewCreatedVersion</th>\n",
       "      <th>at</th>\n",
       "      <th>replyContent</th>\n",
       "      <th>repliedAt</th>\n",
       "      <th>appVersion</th>\n",
       "    </tr>\n",
       "  </thead>\n",
       "  <tbody>\n",
       "    <tr>\n",
       "      <th>0</th>\n",
<<<<<<< HEAD:kedro-pipeline/notebooks/data_preprocessing.ipynb
       "      <td>677af726-36b5-4a32-871c-d2baf1a8c303</td>\n",
       "      <td>A Google user</td>\n",
       "      <td>https://play-lh.googleusercontent.com/EGemoI2N...</td>\n",
=======
<<<<<<< HEAD
=======
       "      <td>677af726-36b5-4a32-871c-d2baf1a8c303</td>\n",
       "      <td>Yonas Tadesse</td>\n",
       "      <td>https://play-lh.googleusercontent.com/a-/ALV-U...</td>\n",
>>>>>>> main:kedro-pipeline/notebooks/EDA.ipynb
       "      <td>Easily the worst electronic payment software b...</td>\n",
       "      <td>1</td>\n",
       "      <td>0</td>\n",
       "      <td>24.04.23</td>\n",
       "      <td>2024-05-23 12:03:54</td>\n",
       "      <td>None</td>\n",
       "      <td>None</td>\n",
       "      <td>24.04.23</td>\n",
       "    </tr>\n",
       "    <tr>\n",
       "      <th>1</th>\n",
<<<<<<< HEAD:kedro-pipeline/notebooks/data_preprocessing.ipynb
=======
>>>>>>> a85b2c8566f200c2edc2867ff6cbb19652709b43
>>>>>>> main:kedro-pipeline/notebooks/EDA.ipynb
       "      <td>738b6d3a-2d7f-4a82-bfe2-dcf32591f944</td>\n",
       "      <td>A Google user</td>\n",
       "      <td>https://play-lh.googleusercontent.com/EGemoI2N...</td>\n",
       "      <td>Slow and buggy crashed all the time need a lot...</td>\n",
       "      <td>2</td>\n",
<<<<<<< HEAD:kedro-pipeline/notebooks/data_preprocessing.ipynb
       "      <td>1</td>\n",
=======
<<<<<<< HEAD
       "      <td>0</td>\n",
=======
       "      <td>1</td>\n",
>>>>>>> a85b2c8566f200c2edc2867ff6cbb19652709b43
>>>>>>> main:kedro-pipeline/notebooks/EDA.ipynb
       "      <td>None</td>\n",
       "      <td>2024-05-21 18:38:28</td>\n",
       "      <td>None</td>\n",
       "      <td>None</td>\n",
       "      <td>None</td>\n",
       "    </tr>\n",
       "    <tr>\n",
<<<<<<< HEAD:kedro-pipeline/notebooks/data_preprocessing.ipynb
       "      <th>2</th>\n",
=======
<<<<<<< HEAD
       "      <th>1</th>\n",
=======
       "      <th>2</th>\n",
>>>>>>> a85b2c8566f200c2edc2867ff6cbb19652709b43
>>>>>>> main:kedro-pipeline/notebooks/EDA.ipynb
       "      <td>e20abe49-8fe7-42fe-af3a-91399875b21a</td>\n",
       "      <td>A Google user</td>\n",
       "      <td>https://play-lh.googleusercontent.com/EGemoI2N...</td>\n",
       "      <td>Awe ሃረፍ nawe</td>\n",
       "      <td>5</td>\n",
       "      <td>0</td>\n",
       "      <td>24.04.23</td>\n",
       "      <td>2024-05-21 05:06:05</td>\n",
       "      <td>None</td>\n",
       "      <td>None</td>\n",
       "      <td>24.04.23</td>\n",
       "    </tr>\n",
       "    <tr>\n",
<<<<<<< HEAD:kedro-pipeline/notebooks/data_preprocessing.ipynb
       "      <th>3</th>\n",
=======
<<<<<<< HEAD
       "      <th>2</th>\n",
=======
       "      <th>3</th>\n",
>>>>>>> a85b2c8566f200c2edc2867ff6cbb19652709b43
>>>>>>> main:kedro-pipeline/notebooks/EDA.ipynb
       "      <td>55c833c8-a942-47bb-aaaa-e022f39e28af</td>\n",
       "      <td>A Google user</td>\n",
       "      <td>https://play-lh.googleusercontent.com/EGemoI2N...</td>\n",
       "      <td>በጣም ቀፋፊ አፕ ነው ። ሰርቶ አያውቅም ። በጣም ብዙ ችግር አለበት ከአ...</td>\n",
       "      <td>1</td>\n",
       "      <td>0</td>\n",
       "      <td>None</td>\n",
       "      <td>2024-05-20 08:07:49</td>\n",
       "      <td>None</td>\n",
       "      <td>None</td>\n",
       "      <td>None</td>\n",
       "    </tr>\n",
       "    <tr>\n",
<<<<<<< HEAD:kedro-pipeline/notebooks/data_preprocessing.ipynb
       "      <th>4</th>\n",
=======
<<<<<<< HEAD
       "      <th>3</th>\n",
=======
       "      <th>4</th>\n",
>>>>>>> a85b2c8566f200c2edc2867ff6cbb19652709b43
>>>>>>> main:kedro-pipeline/notebooks/EDA.ipynb
       "      <td>d62d6d95-2900-4038-aa26-c9b42835c971</td>\n",
       "      <td>A Google user</td>\n",
       "      <td>https://play-lh.googleusercontent.com/EGemoI2N...</td>\n",
       "      <td>This application is very bad . Please modify t...</td>\n",
       "      <td>1</td>\n",
       "      <td>0</td>\n",
       "      <td>None</td>\n",
       "      <td>2024-05-19 16:27:13</td>\n",
       "      <td>None</td>\n",
       "      <td>None</td>\n",
       "      <td>None</td>\n",
       "    </tr>\n",
       "    <tr>\n",
<<<<<<< HEAD:kedro-pipeline/notebooks/data_preprocessing.ipynb
=======
<<<<<<< HEAD
       "      <th>4</th>\n",
       "      <td>20c4de51-f5cd-41f3-b21a-efdf8cb4463e</td>\n",
       "      <td>Eskender Million</td>\n",
       "      <td>https://play-lh.googleusercontent.com/a-/ALV-U...</td>\n",
       "      <td>It has a very complex, inconvenient to use, an...</td>\n",
       "      <td>1</td>\n",
       "      <td>1</td>\n",
       "      <td>24.04.23</td>\n",
       "      <td>2024-05-17 20:37:40</td>\n",
       "      <td>None</td>\n",
       "      <td>None</td>\n",
       "      <td>24.04.23</td>\n",
       "    </tr>\n",
       "    <tr>\n",
=======
>>>>>>> a85b2c8566f200c2edc2867ff6cbb19652709b43
>>>>>>> main:kedro-pipeline/notebooks/EDA.ipynb
       "      <th>...</th>\n",
       "      <td>...</td>\n",
       "      <td>...</td>\n",
       "      <td>...</td>\n",
       "      <td>...</td>\n",
       "      <td>...</td>\n",
       "      <td>...</td>\n",
       "      <td>...</td>\n",
       "      <td>...</td>\n",
       "      <td>...</td>\n",
       "      <td>...</td>\n",
       "      <td>...</td>\n",
       "    </tr>\n",
       "    <tr>\n",
<<<<<<< HEAD:kedro-pipeline/notebooks/data_preprocessing.ipynb
       "      <th>592</th>\n",
       "      <td>0dad93af-a582-418e-b440-0b31464cf9fd</td>\n",
       "      <td>Ergibe</td>\n",
=======
<<<<<<< HEAD
       "      <th>990</th>\n",
       "      <td>3ffa88e8-7593-46e3-a804-ffb9436d3aaa</td>\n",
       "      <td>semale sefa</td>\n",
>>>>>>> main:kedro-pipeline/notebooks/EDA.ipynb
       "      <td>https://play-lh.googleusercontent.com/a/ACg8oc...</td>\n",
       "      <td>Keep it up!</td>\n",
       "      <td>5</td>\n",
       "      <td>0</td>\n",
<<<<<<< HEAD:kedro-pipeline/notebooks/data_preprocessing.ipynb
       "      <td>23.10.24</td>\n",
       "      <td>2023-12-12 12:10:01</td>\n",
=======
       "      <td>None</td>\n",
       "      <td>2023-02-04 10:32:49</td>\n",
=======
       "      <th>393</th>\n",
       "      <td>5ee5c9d0-fe53-4b22-9351-efeeceec762c</td>\n",
       "      <td>Betelhem Degele</td>\n",
       "      <td>https://play-lh.googleusercontent.com/a/ACg8oc...</td>\n",
       "      <td>Great app👏👏</td>\n",
       "      <td>5</td>\n",
       "      <td>0</td>\n",
       "      <td>None</td>\n",
       "      <td>2024-01-25 10:59:07</td>\n",
>>>>>>> a85b2c8566f200c2edc2867ff6cbb19652709b43
       "      <td>None</td>\n",
>>>>>>> main:kedro-pipeline/notebooks/EDA.ipynb
       "      <td>None</td>\n",
       "      <td>None</td>\n",
       "      <td>23.10.24</td>\n",
       "    </tr>\n",
       "    <tr>\n",
<<<<<<< HEAD:kedro-pipeline/notebooks/data_preprocessing.ipynb
       "      <th>593</th>\n",
       "      <td>bde3f74d-ce17-49f9-b118-6a3b0f169de6</td>\n",
       "      <td>Bona Abdisa</td>\n",
=======
<<<<<<< HEAD
       "      <th>992</th>\n",
       "      <td>5e598bd1-7a06-4f2c-af39-7022d8f630db</td>\n",
       "      <td>Abiy Addis</td>\n",
>>>>>>> main:kedro-pipeline/notebooks/EDA.ipynb
       "      <td>https://play-lh.googleusercontent.com/a-/ALV-U...</td>\n",
       "      <td>Good</td>\n",
       "      <td>5</td>\n",
       "      <td>0</td>\n",
       "      <td>23.07.08</td>\n",
       "      <td>2023-12-12 11:55:41</td>\n",
       "      <td>None</td>\n",
       "      <td>None</td>\n",
       "      <td>23.07.08</td>\n",
       "    </tr>\n",
       "    <tr>\n",
       "      <th>594</th>\n",
       "      <td>147130f8-3650-4bcf-acad-1581f2e894b5</td>\n",
       "      <td>Elyas Ayelign</td>\n",
       "      <td>https://play-lh.googleusercontent.com/a/ACg8oc...</td>\n",
       "      <td>Now it does not work</td>\n",
       "      <td>5</td>\n",
       "      <td>0</td>\n",
       "      <td>23.10.24</td>\n",
       "      <td>2023-12-12 11:11:01</td>\n",
       "      <td>None</td>\n",
       "      <td>None</td>\n",
       "      <td>23.10.24</td>\n",
       "    </tr>\n",
       "    <tr>\n",
       "      <th>595</th>\n",
       "      <td>ee2ce1d1-7857-4216-ba78-1f23089aabf6</td>\n",
       "      <td>Ashenafi Henok</td>\n",
       "      <td>https://play-lh.googleusercontent.com/a/ACg8oc...</td>\n",
       "      <td>I rate this app zero,coz it is totally ...</td>\n",
       "      <td>2</td>\n",
       "      <td>0</td>\n",
       "      <td>23.10.24</td>\n",
       "      <td>2023-12-11 17:45:39</td>\n",
       "      <td>None</td>\n",
       "      <td>None</td>\n",
       "      <td>23.10.24</td>\n",
       "    </tr>\n",
       "    <tr>\n",
       "      <th>596</th>\n",
       "      <td>e6192e71-74b9-4efd-b11c-6de56720f7d5</td>\n",
       "      <td>Abdushekur “Kutataa” Kutataa</td>\n",
       "      <td>https://play-lh.googleusercontent.com/a-/ALV-U...</td>\n",
       "      <td>Satisfied</td>\n",
       "      <td>4</td>\n",
       "      <td>0</td>\n",
       "      <td>None</td>\n",
       "      <td>2023-12-11 16:35:21</td>\n",
       "      <td>None</td>\n",
       "      <td>None</td>\n",
       "      <td>None</td>\n",
       "    </tr>\n",
       "  </tbody>\n",
       "</table>\n",
       "<p>597 rows × 11 columns</p>\n",
       "</div>"
      ],
      "text/plain": [
       "                                 reviewId                      userName  \\\n",
       "0    677af726-36b5-4a32-871c-d2baf1a8c303                 A Google user   \n",
       "1    738b6d3a-2d7f-4a82-bfe2-dcf32591f944                 A Google user   \n",
       "2    e20abe49-8fe7-42fe-af3a-91399875b21a                 A Google user   \n",
       "3    55c833c8-a942-47bb-aaaa-e022f39e28af                 A Google user   \n",
       "4    d62d6d95-2900-4038-aa26-c9b42835c971                 A Google user   \n",
       "..                                    ...                           ...   \n",
       "592  0dad93af-a582-418e-b440-0b31464cf9fd                        Ergibe   \n",
       "593  bde3f74d-ce17-49f9-b118-6a3b0f169de6                   Bona Abdisa   \n",
       "594  147130f8-3650-4bcf-acad-1581f2e894b5                 Elyas Ayelign   \n",
       "595  ee2ce1d1-7857-4216-ba78-1f23089aabf6                Ashenafi Henok   \n",
       "596  e6192e71-74b9-4efd-b11c-6de56720f7d5  Abdushekur “Kutataa” Kutataa   \n",
       "\n",
       "                                             userImage  \\\n",
       "0    https://play-lh.googleusercontent.com/EGemoI2N...   \n",
       "1    https://play-lh.googleusercontent.com/EGemoI2N...   \n",
       "2    https://play-lh.googleusercontent.com/EGemoI2N...   \n",
       "3    https://play-lh.googleusercontent.com/EGemoI2N...   \n",
       "4    https://play-lh.googleusercontent.com/EGemoI2N...   \n",
       "..                                                 ...   \n",
       "592  https://play-lh.googleusercontent.com/a/ACg8oc...   \n",
       "593  https://play-lh.googleusercontent.com/a-/ALV-U...   \n",
       "594  https://play-lh.googleusercontent.com/a/ACg8oc...   \n",
       "595  https://play-lh.googleusercontent.com/a/ACg8oc...   \n",
       "596  https://play-lh.googleusercontent.com/a-/ALV-U...   \n",
       "\n",
       "                                               content  score  thumbsUpCount  \\\n",
       "0    Easily the worst electronic payment software b...      1              0   \n",
       "1    Slow and buggy crashed all the time need a lot...      2              1   \n",
       "2                                         Awe ሃረፍ nawe      5              0   \n",
       "3    በጣም ቀፋፊ አፕ ነው ። ሰርቶ አያውቅም ። በጣም ብዙ ችግር አለበት ከአ...      1              0   \n",
       "4    This application is very bad . Please modify t...      1              0   \n",
       "..                                                 ...    ...            ...   \n",
       "592                                        Keep it up!      5              0   \n",
       "593                                               Good      5              0   \n",
       "594                               Now it does not work      5              0   \n",
       "595         I rate this app zero,coz it is totally ...      2              0   \n",
       "596                                          Satisfied      4              0   \n",
       "\n",
       "    reviewCreatedVersion                  at replyContent repliedAt appVersion  \n",
       "0               24.04.23 2024-05-23 12:03:54         None      None   24.04.23  \n",
       "1                   None 2024-05-21 18:38:28         None      None       None  \n",
       "2               24.04.23 2024-05-21 05:06:05         None      None   24.04.23  \n",
       "3                   None 2024-05-20 08:07:49         None      None       None  \n",
       "4                   None 2024-05-19 16:27:13         None      None       None  \n",
       "..                   ...                 ...          ...       ...        ...  \n",
       "592             23.10.24 2023-12-12 12:10:01         None      None   23.10.24  \n",
       "593             23.07.08 2023-12-12 11:55:41         None      None   23.07.08  \n",
       "594             23.10.24 2023-12-12 11:11:01         None      None   23.10.24  \n",
       "595             23.10.24 2023-12-11 17:45:39         None      None   23.10.24  \n",
       "596                 None 2023-12-11 16:35:21         None      None       None  \n",
       "\n",
<<<<<<< HEAD:kedro-pipeline/notebooks/data_preprocessing.ipynb
       "[597 rows x 11 columns]"
=======
       "[995 rows x 11 columns]"
=======
       "      <th>394</th>\n",
       "      <td>c87c1dc9-db9f-4664-9e00-bdd5f10fee40</td>\n",
       "      <td>Getayawkal Demissie</td>\n",
       "      <td>https://play-lh.googleusercontent.com/a-/ALV-U...</td>\n",
       "      <td>The app is not yet finalized I think. It crash...</td>\n",
       "      <td>2</td>\n",
       "      <td>3</td>\n",
       "      <td>23.12.18</td>\n",
       "      <td>2024-01-25 10:03:35</td>\n",
       "      <td>None</td>\n",
       "      <td>None</td>\n",
       "      <td>23.12.18</td>\n",
       "    </tr>\n",
       "    <tr>\n",
       "      <th>395</th>\n",
       "      <td>5430972b-cbbc-4cb1-b115-3827f27cd7a3</td>\n",
       "      <td>Hewan Merekelgn</td>\n",
       "      <td>https://play-lh.googleusercontent.com/a/ACg8oc...</td>\n",
       "      <td>Nays</td>\n",
       "      <td>5</td>\n",
       "      <td>0</td>\n",
       "      <td>24.01.17</td>\n",
       "      <td>2024-01-25 02:41:31</td>\n",
       "      <td>None</td>\n",
       "      <td>None</td>\n",
       "      <td>24.01.17</td>\n",
       "    </tr>\n",
       "    <tr>\n",
       "      <th>396</th>\n",
       "      <td>7a6178fc-1fc0-4ed7-a85d-b5efeb07b1f7</td>\n",
       "      <td>Emran esmael Jabir</td>\n",
       "      <td>https://play-lh.googleusercontent.com/a-/ALV-U...</td>\n",
       "      <td>Hadebera</td>\n",
       "      <td>5</td>\n",
       "      <td>0</td>\n",
       "      <td>24.01.17</td>\n",
       "      <td>2024-01-24 20:43:46</td>\n",
       "      <td>None</td>\n",
       "      <td>None</td>\n",
       "      <td>24.01.17</td>\n",
       "    </tr>\n",
       "    <tr>\n",
       "      <th>397</th>\n",
       "      <td>974bace8-15c7-479d-bbe0-928c67c40e62</td>\n",
       "      <td>Abdu Badlu</td>\n",
       "      <td>https://play-lh.googleusercontent.com/a-/ALV-U...</td>\n",
       "      <td>HuAwei y7a</td>\n",
       "      <td>4</td>\n",
       "      <td>0</td>\n",
       "      <td>23.12.29</td>\n",
       "      <td>2024-01-24 20:05:30</td>\n",
       "      <td>None</td>\n",
       "      <td>None</td>\n",
       "      <td>23.12.29</td>\n",
       "    </tr>\n",
       "  </tbody>\n",
       "</table>\n",
       "<p>398 rows × 11 columns</p>\n",
       "</div>"
      ],
      "text/plain": [
       "                                 reviewId             userName  \\\n",
       "0    677af726-36b5-4a32-871c-d2baf1a8c303        Yonas Tadesse   \n",
       "1    738b6d3a-2d7f-4a82-bfe2-dcf32591f944       NAHOM NIGUSSIE   \n",
       "2    e20abe49-8fe7-42fe-af3a-91399875b21a        Abbatu Ermias   \n",
       "3    55c833c8-a942-47bb-aaaa-e022f39e28af         Habtsh Darge   \n",
       "4    d62d6d95-2900-4038-aa26-c9b42835c971                Usman   \n",
       "..                                    ...                  ...   \n",
       "393  5ee5c9d0-fe53-4b22-9351-efeeceec762c      Betelhem Degele   \n",
       "394  c87c1dc9-db9f-4664-9e00-bdd5f10fee40  Getayawkal Demissie   \n",
       "395  5430972b-cbbc-4cb1-b115-3827f27cd7a3      Hewan Merekelgn   \n",
       "396  7a6178fc-1fc0-4ed7-a85d-b5efeb07b1f7   Emran esmael Jabir   \n",
       "397  974bace8-15c7-479d-bbe0-928c67c40e62           Abdu Badlu   \n",
       "\n",
       "                                             userImage  \\\n",
       "0    https://play-lh.googleusercontent.com/a-/ALV-U...   \n",
       "1    https://play-lh.googleusercontent.com/a-/ALV-U...   \n",
       "2    https://play-lh.googleusercontent.com/a/ACg8oc...   \n",
       "3    https://play-lh.googleusercontent.com/a/ACg8oc...   \n",
       "4    https://play-lh.googleusercontent.com/a/ACg8oc...   \n",
       "..                                                 ...   \n",
       "393  https://play-lh.googleusercontent.com/a/ACg8oc...   \n",
       "394  https://play-lh.googleusercontent.com/a-/ALV-U...   \n",
       "395  https://play-lh.googleusercontent.com/a/ACg8oc...   \n",
       "396  https://play-lh.googleusercontent.com/a-/ALV-U...   \n",
       "397  https://play-lh.googleusercontent.com/a-/ALV-U...   \n",
       "\n",
       "                                               content  score  thumbsUpCount  \\\n",
       "0    Easily the worst electronic payment software b...      1              0   \n",
       "1    Slow and buggy crashed all the time need a lot...      2              1   \n",
       "2                                         Awe ሃረፍ nawe      5              0   \n",
       "3    በጣም ቀፋፊ አፕ ነው ። ሰርቶ አያውቅም ። በጣም ብዙ ችግር አለበት ከአ...      1              0   \n",
       "4    This application is very bad . Please modify t...      1              0   \n",
       "..                                                 ...    ...            ...   \n",
       "393                                        Great app👏👏      5              0   \n",
       "394  The app is not yet finalized I think. It crash...      2              3   \n",
       "395                                               Nays      5              0   \n",
       "396                                           Hadebera      5              0   \n",
       "397                                         HuAwei y7a      4              0   \n",
       "\n",
       "    reviewCreatedVersion                  at replyContent repliedAt appVersion  \n",
       "0               24.04.23 2024-05-23 12:03:54         None      None   24.04.23  \n",
       "1                   None 2024-05-21 18:38:28         None      None       None  \n",
       "2               24.04.23 2024-05-21 05:06:05         None      None   24.04.23  \n",
       "3                   None 2024-05-20 08:07:49         None      None       None  \n",
       "4                   None 2024-05-19 16:27:13         None      None       None  \n",
       "..                   ...                 ...          ...       ...        ...  \n",
       "393                 None 2024-01-25 10:59:07         None      None       None  \n",
       "394             23.12.18 2024-01-25 10:03:35         None      None   23.12.18  \n",
       "395             24.01.17 2024-01-25 02:41:31         None      None   24.01.17  \n",
       "396             24.01.17 2024-01-24 20:43:46         None      None   24.01.17  \n",
       "397             23.12.29 2024-01-24 20:05:30         None      None   23.12.29  \n",
       "\n",
       "[398 rows x 11 columns]"
>>>>>>> a85b2c8566f200c2edc2867ff6cbb19652709b43
>>>>>>> main:kedro-pipeline/notebooks/EDA.ipynb
      ]
     },
     "metadata": {},
     "output_type": "display_data"
    }
   ],
   "source": [
<<<<<<< HEAD
    "display(raw_app_reviews)"
=======
    "display(raw_reviews_df)"
   ]
  },
  {
   "cell_type": "markdown",
   "id": "81b85cdb-6b98-4c45-992b-c1d93122d6f8",
   "metadata": {},
   "source": [
    "## Save raw data to kedro raw folder"
   ]
  },
  {
   "cell_type": "code",
   "execution_count": null,
   "id": "2bef0f00-4115-4416-9a25-fb6474f9c7e3",
   "metadata": {},
   "outputs": [],
   "source": [
    "# Define output folder and file name\n",
    "output_folder = os.path.join('..', 'data/01_raw')\n",
    "filename = 'raw_reviews_df.csv'\n",
    "output_path = save_dataset(raw_reviews_df, output_folder, filename)"
   ]
  },
  {
   "cell_type": "markdown",
   "id": "329f70d1-9339-42fd-ae04-aa88d674b1a4",
   "metadata": {},
   "source": [
    "## Load Data using Kedro"
   ]
  },
  {
   "cell_type": "code",
   "execution_count": null,
   "id": "c94b9594-6bdc-40d4-9d7e-fd7bca6f605b",
   "metadata": {},
   "outputs": [],
   "source": [
    "%load_ext kedro.ipython"
   ]
  },
  {
   "cell_type": "code",
   "execution_count": null,
   "id": "cdf7e513-a501-4523-9564-c5103375a6be",
   "metadata": {},
   "outputs": [],
   "source": [
    "kedro_raw_df = catalog.load(\"raw_data\")\n",
    "kedro_raw_df.head()"
>>>>>>> a85b2c8566f200c2edc2867ff6cbb19652709b43
   ]
  },
  {
   "cell_type": "markdown",
   "id": "1efff4ef-55f2-4ba5-9349-a80537c84796",
   "metadata": {},
   "source": [
    "## Data Understanding"
   ]
  },
  {
   "cell_type": "code",
<<<<<<< HEAD
   "execution_count": 10,
   "id": "ac9f806e-1232-4f85-81d9-0f3e7060d10e",
   "metadata": {},
   "outputs": [
    {
     "name": "stdout",
     "output_type": "stream",
     "text": [
      "<class 'pandas.core.frame.DataFrame'>\n",
      "RangeIndex: 995 entries, 0 to 994\n",
      "Data columns (total 11 columns):\n",
      " #   Column                Non-Null Count  Dtype         \n",
      "---  ------                --------------  -----         \n",
      " 0   reviewId              995 non-null    object        \n",
      " 1   userName              995 non-null    object        \n",
      " 2   userImage             995 non-null    object        \n",
      " 3   content               995 non-null    object        \n",
      " 4   score                 995 non-null    int64         \n",
      " 5   thumbsUpCount         995 non-null    int64         \n",
      " 6   reviewCreatedVersion  649 non-null    object        \n",
      " 7   at                    995 non-null    datetime64[ns]\n",
      " 8   replyContent          0 non-null      object        \n",
      " 9   repliedAt             0 non-null      object        \n",
      " 10  appVersion            649 non-null    object        \n",
      "dtypes: datetime64[ns](1), int64(2), object(8)\n",
      "memory usage: 85.6+ KB\n"
     ]
    }
   ],
   "source": [
    "raw_app_reviews.info()"
=======
   "execution_count": null,
   "id": "ac9f806e-1232-4f85-81d9-0f3e7060d10e",
   "metadata": {},
   "outputs": [],
   "source": [
    "kedro_raw_df.info()"
>>>>>>> a85b2c8566f200c2edc2867ff6cbb19652709b43
   ]
  },
  {
   "cell_type": "markdown",
   "id": "d9bdbe5a",
   "metadata": {},
   "source": [
    "## Data Cleaning"
   ]
  },
  {
   "cell_type": "code",
   "execution_count": null,
   "id": "ae78c869-a83a-4d57-a20c-4c33dfa385c8",
   "metadata": {},
   "outputs": [],
   "source": [
<<<<<<< HEAD
    "cleaned_df = perform_data_cleaning(raw_app_reviews)"
   ]
  },
  {
   "cell_type": "code",
   "execution_count": null,
   "id": "0c68de02",
   "metadata": {},
   "outputs": [],
   "source": [
=======
    "cleaned_df = perform_data_cleaning(kedro_raw_df)\n",
>>>>>>> a85b2c8566f200c2edc2867ff6cbb19652709b43
    "display(cleaned_df)"
   ]
  },
  {
   "cell_type": "markdown",
   "id": "844f864a",
   "metadata": {},
   "source": [
<<<<<<< HEAD
    "## Save Cleaned Dataset"
   ]
  },
  {
   "cell_type": "markdown",
   "id": "dec256f3",
   "metadata": {},
<<<<<<< HEAD:kedro-pipeline/notebooks/data_preprocessing.ipynb
=======
=======
    "## Saving Cleaned Dataset in Kedro Intermediate folder"
   ]
  },
  {
   "cell_type": "code",
   "execution_count": null,
   "id": "2193f58b-22aa-4c0a-b828-136bf8555b72",
   "metadata": {},
   "outputs": [],
>>>>>>> main:kedro-pipeline/notebooks/EDA.ipynb
   "source": [
    "# Define output folder and file name\n",
    "output_folder = os.path.join('..', 'data/02_intermediate')\n",
    "filename = 'cleaned_reviews_df.csv'\n",
<<<<<<< HEAD:kedro-pipeline/notebooks/data_preprocessing.ipynb
    "\n",
    "output_path = save_dataset(raw_dataset, output_folder, filename)"
   ]
=======
    "output_path = save_dataset(cleaned_df, output_folder, filename)"
   ]
  },
  {
   "cell_type": "code",
   "execution_count": null,
   "id": "b7456513-df75-449c-8a56-163d440e3213",
   "metadata": {},
   "outputs": [],
   "source": []
  },
  {
   "cell_type": "code",
   "execution_count": null,
   "id": "f2f6dad4-50cb-4fa6-b93c-7f1811dc3618",
   "metadata": {},
   "outputs": [],
>>>>>>> a85b2c8566f200c2edc2867ff6cbb19652709b43
   "source": []
>>>>>>> main:kedro-pipeline/notebooks/EDA.ipynb
  }
 ],
 "metadata": {
  "kernelspec": {
   "display_name": "Python 3 (ipykernel)",
   "language": "python",
   "name": "python3"
  },
  "language_info": {
   "codemirror_mode": {
    "name": "ipython",
    "version": 3
   },
   "file_extension": ".py",
   "mimetype": "text/x-python",
   "name": "python",
   "nbconvert_exporter": "python",
   "pygments_lexer": "ipython3",
<<<<<<< HEAD:kedro-pipeline/notebooks/data_preprocessing.ipynb
   "version": "3.9.13"
=======
<<<<<<< HEAD
   "version": "3.12.0"
=======
   "version": "3.9.13"
>>>>>>> a85b2c8566f200c2edc2867ff6cbb19652709b43
>>>>>>> main:kedro-pipeline/notebooks/EDA.ipynb
  }
 },
 "nbformat": 4,
 "nbformat_minor": 5
}
